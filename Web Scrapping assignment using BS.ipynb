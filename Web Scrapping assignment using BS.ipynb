{
 "cells": [
  {
   "cell_type": "markdown",
   "id": "ef0c7a20",
   "metadata": {},
   "source": [
    "1) Write a python program to display all the header tags from wikipedia.org"
   ]
  },
  {
   "cell_type": "code",
   "execution_count": null,
   "id": "514c8388",
   "metadata": {},
   "outputs": [],
   "source": [
    "from bs4 import BeautifulSoup\n",
    "import requests\n",
    "import pandas as pd"
   ]
  },
  {
   "cell_type": "code",
   "execution_count": null,
   "id": "4e6350f4",
   "metadata": {},
   "outputs": [],
   "source": [
    "url=requests.get(\"https://en.wikipedia.org/wiki/Main_Page\")\n",
    "bs=BeautifulSoup(url.text, \"html.parser\")\n",
    "titles=bs.find_all(['h1','h2','h3','h4','h5'])\n",
    "for i in titles:\n",
    "    print(i)"
   ]
  },
  {
   "cell_type": "markdown",
   "id": "ca956619",
   "metadata": {},
   "source": [
    "4) Write s python program to display list of respected former presidents of India(i.e. Name , Term of office) from https://presidentofindia.nic.in/former-presidents.htm "
   ]
  },
  {
   "cell_type": "code",
   "execution_count": null,
   "id": "d8cc3b70",
   "metadata": {},
   "outputs": [],
   "source": [
    "import requests\n",
    "from bs4 import BeautifulSoup\n",
    "bs=requests.get(\"https://presidentofindia.nic.in/former-presidents.htm\")\n",
    "bs"
   ]
  },
  {
   "cell_type": "code",
   "execution_count": null,
   "id": "819c2442",
   "metadata": {},
   "outputs": [],
   "source": [
    "data=BeautifulSoup(bs.content)\n",
    "data"
   ]
  },
  {
   "cell_type": "code",
   "execution_count": null,
   "id": "ffcb2a6d",
   "metadata": {},
   "outputs": [],
   "source": [
    "#scrapping names\n",
    "names=data.find('div',class_=\"presidentListing\")\n",
    "names.text.strip()[:82].replace('\\n','')\n"
   ]
  },
  {
   "cell_type": "code",
   "execution_count": null,
   "id": "ec6b2b63",
   "metadata": {},
   "outputs": [],
   "source": [
    "Presidents=[]\n",
    "\n",
    "for i in data.find_all('div',class_=\"presidentListing\"):\n",
    "    Presidents.append(i.text.strip().replace('\\n',''))\n",
    "    \n",
    "Presidents"
   ]
  },
  {
   "cell_type": "markdown",
   "id": "36e2254d",
   "metadata": {},
   "source": [
    "7) Write a python program to scrape mentioned news details from https://www.cnbc.com/world/?region=world : \n",
    "        i) Headline ii)   Time iii)  News Link "
   ]
  },
  {
   "cell_type": "code",
   "execution_count": null,
   "id": "ae20571a",
   "metadata": {},
   "outputs": [],
   "source": [
    "web=requests.get(\"https://www.cnbc.com/world/?region=world\")\n",
    "web"
   ]
  },
  {
   "cell_type": "code",
   "execution_count": null,
   "id": "e23372ab",
   "metadata": {},
   "outputs": [],
   "source": [
    "soup=BeautifulSoup(web.content)\n",
    "soup"
   ]
  },
  {
   "cell_type": "code",
   "execution_count": null,
   "id": "e767c5b4",
   "metadata": {},
   "outputs": [],
   "source": [
    "first_time=soup.find(\"time\",class_=\"LatestNews-timestamp\")\n",
    "first_time.text"
   ]
  },
  {
   "cell_type": "code",
   "execution_count": null,
   "id": "ce4d769b",
   "metadata": {},
   "outputs": [],
   "source": [
    "Headline=soup.find('a',class_=\"LatestNews-headline\")\n",
    "Headline.text"
   ]
  },
  {
   "cell_type": "code",
   "execution_count": null,
   "id": "62d57900",
   "metadata": {},
   "outputs": [],
   "source": [
    "time=[]\n",
    "for i in soup.find_all(\"time\",class_=\"LatestNews-timestamp\"):\n",
    "    time.append(i.text)\n",
    "time"
   ]
  },
  {
   "cell_type": "code",
   "execution_count": null,
   "id": "0afbc4d3",
   "metadata": {},
   "outputs": [],
   "source": [
    "Headlines=[]\n",
    "for i in soup.find_all('a',class_=\"LatestNews-headline\"):\n",
    "    Headlines.append(i.text)\n",
    "Headlines"
   ]
  },
  {
   "cell_type": "code",
   "execution_count": null,
   "id": "7eae3a7e",
   "metadata": {},
   "outputs": [],
   "source": [
    "urls=[]\n",
    "for i in soup.find_all('a',class_=\"LatestNews-headline\"):\n",
    "    urls.append(i.get('href'))\n",
    "urls"
   ]
  },
  {
   "cell_type": "code",
   "execution_count": null,
   "id": "1cbbde36",
   "metadata": {},
   "outputs": [],
   "source": [
    "#print len\n",
    "print(len(Headlines),len(time),len(urls))"
   ]
  },
  {
   "cell_type": "code",
   "execution_count": null,
   "id": "82588f20",
   "metadata": {},
   "outputs": [],
   "source": [
    "import pandas as pd\n",
    "#dataframe \n",
    "df=pd.DataFrame({'Headlines':Headlines,'Time':time,'Link':urls})\n",
    "df"
   ]
  },
  {
   "cell_type": "markdown",
   "id": "54060d94",
   "metadata": {},
   "source": [
    "8) Write a python program to scrape the details of most downloaded articles from AI in last 90 days.  https://www.journals.elsevier.com/artificial-intelligence/most-downloaded-articles  Scrape below mentioned details : \n",
    "        i) Paper Title  ii) Authors iii) Published Date  iv) Paper URL M"
   ]
  },
  {
   "cell_type": "code",
   "execution_count": null,
   "id": "c345284b",
   "metadata": {},
   "outputs": [],
   "source": [
    "data=requests.get(\"https://www.journals.elsevier.com/artificial-intelligence/most-downloaded-articles\")\n",
    "data"
   ]
  },
  {
   "cell_type": "code",
   "execution_count": null,
   "id": "9bcf2846",
   "metadata": {},
   "outputs": [],
   "source": [
    "var=BeautifulSoup(data.content)\n",
    "var"
   ]
  },
  {
   "cell_type": "code",
   "execution_count": null,
   "id": "faf79fea",
   "metadata": {},
   "outputs": [],
   "source": [
    "First_title=var.find(\"a\",class_=\"sc-5smygv-0 nrDZj\")\n",
    "First_title.text"
   ]
  },
  {
   "cell_type": "code",
   "execution_count": null,
   "id": "2b209d75",
   "metadata": {},
   "outputs": [],
   "source": [
    "first_author=var.find('span',class_=\"sc-1w3fpd7-0 pgLAT\")\n",
    "first_author.text"
   ]
  },
  {
   "cell_type": "code",
   "execution_count": null,
   "id": "bca63d1e",
   "metadata": {},
   "outputs": [],
   "source": [
    "date=var.find('span',class_=\"sc-1thf9ly-2 bKddwo\")\n",
    "date.text"
   ]
  },
  {
   "cell_type": "code",
   "execution_count": null,
   "id": "ed7f61be",
   "metadata": {},
   "outputs": [],
   "source": [
    "titles=[]\n",
    "for i in var.find_all(\"a\",class_=\"sc-5smygv-0 nrDZj\"):\n",
    "    titles.append(i.text)\n",
    "titles"
   ]
  },
  {
   "cell_type": "code",
   "execution_count": null,
   "id": "24f38719",
   "metadata": {},
   "outputs": [],
   "source": [
    "authors=[]\n",
    "for i in var.find_all('span',class_=\"sc-1w3fpd7-0 pgLAT\"):\n",
    "    authors.append(i.text)\n",
    "authors"
   ]
  },
  {
   "cell_type": "code",
   "execution_count": null,
   "id": "33dbec51",
   "metadata": {},
   "outputs": [],
   "source": [
    "year=[]\n",
    "for i in var.find_all('span',class_=\"sc-1thf9ly-2 bKddwo\"):\n",
    "    year.append(i.text)\n",
    "year"
   ]
  },
  {
   "cell_type": "code",
   "execution_count": null,
   "id": "ab6493ce",
   "metadata": {},
   "outputs": [],
   "source": [
    "link=[]\n",
    "for i in var.find_all('a',class_=\"sc-5smygv-0 nrDZj\"):\n",
    "    link.append(i.get('href'))\n",
    "link"
   ]
  },
  {
   "cell_type": "code",
   "execution_count": null,
   "id": "a235675e",
   "metadata": {},
   "outputs": [],
   "source": [
    "print(len(titles),len(authors),len(year),len(link))"
   ]
  },
  {
   "cell_type": "code",
   "execution_count": null,
   "id": "e9621c74",
   "metadata": {},
   "outputs": [],
   "source": [
    "#dataframe\n",
    "dataframe=pd.DataFrame({'Paper_Title':titles,'Authors':authors,'Published Date':year,'Paper URL':link})\n",
    "dataframe"
   ]
  },
  {
   "cell_type": "markdown",
   "id": "02ad7606",
   "metadata": {},
   "source": [
    "9) Write a python program to scrape mentioned details from dineout.co.in : \n",
    "    i) Restaurant name ii) Cuisine iii) Location                            \n",
    "    iv) Ratings v) Image URL \n",
    "    "
   ]
  },
  {
   "cell_type": "code",
   "execution_count": null,
   "id": "80e577d5",
   "metadata": {},
   "outputs": [],
   "source": [
    "data=requests.get(\"https://www.dineout.co.in/bangalore-restaurants/welcome-back\")\n",
    "data"
   ]
  },
  {
   "cell_type": "code",
   "execution_count": null,
   "id": "fde7a0a9",
   "metadata": {},
   "outputs": [],
   "source": [
    "obj=BeautifulSoup(data.content)\n",
    "obj"
   ]
  },
  {
   "cell_type": "code",
   "execution_count": null,
   "id": "11b5228f",
   "metadata": {},
   "outputs": [],
   "source": [
    "Rstnt=[]\n",
    "for i in obj.find_all('a',class_=\"restnt-name ellipsis\"):\n",
    "    Rstnt.append(i.text)\n",
    "Rstnt"
   ]
  },
  {
   "cell_type": "code",
   "execution_count": null,
   "id": "183f5019",
   "metadata": {},
   "outputs": [],
   "source": [
    "location=[]\n",
    "for i in obj.find_all('div',class_=\"restnt-loc ellipsis\"):\n",
    "    location.append(i.text)\n",
    "location"
   ]
  },
  {
   "cell_type": "code",
   "execution_count": null,
   "id": "fca25548",
   "metadata": {},
   "outputs": [],
   "source": [
    "Price=[]\n",
    "for i in obj.find_all('span',class_=\"double-line-ellipsis\"):\n",
    "    Price.append(i.text.split('|')[0])\n",
    "Price"
   ]
  },
  {
   "cell_type": "code",
   "execution_count": null,
   "id": "3b5493f7",
   "metadata": {},
   "outputs": [],
   "source": [
    "Rating=[]\n",
    "for i in obj.find_all('div',class_=\"restnt-rating rating-4\"):\n",
    "    Rating.append(i.text)\n",
    "Rating"
   ]
  },
  {
   "cell_type": "code",
   "execution_count": null,
   "id": "31ec8846",
   "metadata": {},
   "outputs": [],
   "source": [
    "rating=[]\n",
    "for i in obj.find_all('div',class_=\"restnt-rating rating-5\"):\n",
    "    rating.append(i.text)\n",
    "rating"
   ]
  },
  {
   "cell_type": "code",
   "execution_count": null,
   "id": "d640416d",
   "metadata": {},
   "outputs": [],
   "source": [
    "Rating_=Rating+rating\n",
    "Rating_"
   ]
  },
  {
   "cell_type": "code",
   "execution_count": null,
   "id": "91959bc4",
   "metadata": {},
   "outputs": [],
   "source": [
    "Cuisine=[]\n",
    "for i in obj.find_all('span',class_=\"double-line-ellipsis\"):\n",
    "    Cuisine.append(i.text.split('|')[1])\n",
    "Cuisine"
   ]
  },
  {
   "cell_type": "code",
   "execution_count": null,
   "id": "7e0b6984",
   "metadata": {},
   "outputs": [],
   "source": [
    "URLs=[]\n",
    "for i in obj.find_all('a',class_=\"restnt-name ellipsis\"):\n",
    "    URLs.append(i.get(\"href\"))\n",
    "URLs"
   ]
  },
  {
   "cell_type": "code",
   "execution_count": null,
   "id": "1e21afa6",
   "metadata": {},
   "outputs": [],
   "source": [
    "print(len(Rstnt),len(location),len(Price),len(Cuisine),len(URLs),len(Rating_))"
   ]
  },
  {
   "cell_type": "code",
   "execution_count": null,
   "id": "f548102b",
   "metadata": {},
   "outputs": [],
   "source": [
    "#dataframe\n",
    "df=pd.DataFrame({'Restaurant_name':Rstnt,'Location':location,'Price':Price,'Cuisine':Cuisine,'Rating':Rating_,'Link':URLs})\n",
    "df"
   ]
  },
  {
   "cell_type": "markdown",
   "id": "7a1e0447",
   "metadata": {},
   "source": [
    "10) Write a python program to scrape the details of top publications from Google Scholar from  https://scholar.google.com/citations?view_op=top_venues&hl=en  \n",
    "    i) Rank  ii)   Publication iii)  h5-index    iv)   h5-median "
   ]
  },
  {
   "cell_type": "code",
   "execution_count": null,
   "id": "76ca1817",
   "metadata": {},
   "outputs": [],
   "source": [
    "data=requests.get(\"https://scholar.google.com/citations?view_op=top_venues&hl=en\")\n",
    "data"
   ]
  },
  {
   "cell_type": "code",
   "execution_count": null,
   "id": "556f56f3",
   "metadata": {},
   "outputs": [],
   "source": [
    "resp=BeautifulSoup(data.content)\n",
    "resp"
   ]
  },
  {
   "cell_type": "code",
   "execution_count": null,
   "id": "29ea212c",
   "metadata": {},
   "outputs": [],
   "source": [
    "Rank=[]\n",
    "for i in resp.find_all('td',class_=\"gsc_mvt_p\"):\n",
    "    Rank.append(i.text)\n",
    "Rank\n"
   ]
  },
  {
   "cell_type": "code",
   "execution_count": null,
   "id": "8e5ea354",
   "metadata": {},
   "outputs": [],
   "source": [
    "Publication=[]\n",
    "for i in resp.find_all('td',class_=\"gsc_mvt_t\"):\n",
    "    Publication.append(i.text)\n",
    "Publication"
   ]
  },
  {
   "cell_type": "code",
   "execution_count": null,
   "id": "751c4271",
   "metadata": {},
   "outputs": [],
   "source": [
    "index=[]\n",
    "for i in resp.find_all('a',class_=\"gs_ibl gsc_mp_anchor\"):\n",
    "    index.append(i.text)\n",
    "index"
   ]
  },
  {
   "cell_type": "code",
   "execution_count": null,
   "id": "edd8b755",
   "metadata": {},
   "outputs": [],
   "source": [
    "Median=[]\n",
    "for i in resp.find_all('span',class_=\"gs_ibl gsc_mp_anchor\"):\n",
    "    Median.append(i.text)\n",
    "Median"
   ]
  },
  {
   "cell_type": "code",
   "execution_count": null,
   "id": "63abdda1",
   "metadata": {},
   "outputs": [],
   "source": [
    "print(len(Rank),len(Publication),len(index),len(Median))"
   ]
  },
  {
   "cell_type": "code",
   "execution_count": null,
   "id": "a2d0412f",
   "metadata": {},
   "outputs": [],
   "source": [
    "#dataframe\n",
    "df=pd.DataFrame({'Rank':Rank,'Publication':Publication,'hi5-index':index,'hi5-median':Median})\n",
    "df"
   ]
  },
  {
   "cell_type": "markdown",
   "id": "59e688fc",
   "metadata": {},
   "source": [
    "2) Write a python program to display IMDB’s Top rated 100 movies’ data (i.e. name, rating, year of release) and make data frame."
   ]
  },
  {
   "cell_type": "code",
   "execution_count": null,
   "id": "1f912e58",
   "metadata": {},
   "outputs": [],
   "source": [
    "data=requests.get(\"https://www.imdb.com/chart/top/?sort=ir,desc&mode=simple&page=1\")\n",
    "data"
   ]
  },
  {
   "cell_type": "code",
   "execution_count": null,
   "id": "bdb7494a",
   "metadata": {},
   "outputs": [],
   "source": [
    "soup=BeautifulSoup(data.content)\n",
    "soup"
   ]
  },
  {
   "cell_type": "code",
   "execution_count": null,
   "id": "39131263",
   "metadata": {},
   "outputs": [],
   "source": [
    "movie=[]\n",
    "for i in soup.find_all('td',class_=\"titleColumn\"):\n",
    "    movie.append(i.text.replace('\\n',''))    \n",
    "movie\n"
   ]
  },
  {
   "cell_type": "code",
   "execution_count": null,
   "id": "28e74a18",
   "metadata": {},
   "outputs": [],
   "source": [
    "rating=[]\n",
    "for i in soup.find_all('td',class_=\"ratingColumn imdbRating\"):\n",
    "    rating.append(i.text.strip())\n",
    "rating"
   ]
  },
  {
   "cell_type": "code",
   "execution_count": null,
   "id": "6ca9ce80",
   "metadata": {},
   "outputs": [],
   "source": [
    "df=pd.DataFrame({'Title(year)':movie[:100],'IMDB rating':rating[:100]})\n",
    "df"
   ]
  },
  {
   "cell_type": "markdown",
   "id": "5b584e0a",
   "metadata": {},
   "source": [
    "3) Write a python program to display IMDB’s Top rated 100 Indian movies’ data (i.e. name, rating, year of release) and make data frame"
   ]
  },
  {
   "cell_type": "code",
   "execution_count": null,
   "id": "6e1accc2",
   "metadata": {},
   "outputs": [],
   "source": [
    "data=requests.get(\"https://www.imdb.com/india/top-rated-indian-movies/?sort=ir,desc&mode=simple&page=1\")\n",
    "data"
   ]
  },
  {
   "cell_type": "code",
   "execution_count": null,
   "id": "6af653ce",
   "metadata": {},
   "outputs": [],
   "source": [
    "soup=BeautifulSoup(data.content)\n",
    "soup"
   ]
  },
  {
   "cell_type": "code",
   "execution_count": null,
   "id": "559bf0f9",
   "metadata": {},
   "outputs": [],
   "source": [
    "movie=[]\n",
    "for i in soup.find_all('td',class_=\"titleColumn\"):\n",
    "    movie.append(i.text.replace('\\n',''))\n",
    "movie"
   ]
  },
  {
   "cell_type": "code",
   "execution_count": null,
   "id": "da605004",
   "metadata": {},
   "outputs": [],
   "source": [
    "rating=[]\n",
    "for i in soup.find_all('td',class_=\"ratingColumn imdbRating\"):\n",
    "    rating.append(i.text.strip())\n",
    "rating"
   ]
  },
  {
   "cell_type": "code",
   "execution_count": null,
   "id": "ee002e06",
   "metadata": {},
   "outputs": [],
   "source": [
    "df=pd.DataFrame({'movie(year)':movie[:100],'IMDB Rating':rating[:100]})\n",
    "df"
   ]
  },
  {
   "cell_type": "markdown",
   "id": "d9411e64",
   "metadata": {},
   "source": [
    "5) Write a python program to scrape cricket rankings from icc-cricket.com. You have to scrape: \n",
    "    a) Top 10 ODI teams in men’s cricket along with the records for matches, points and rating. \n",
    "    b) Top 10 ODI Batsmen along with the records of their team and rating. \n",
    "    c) Top 10 ODI bowlers along with the records of their team and rating. "
   ]
  },
  {
   "cell_type": "code",
   "execution_count": null,
   "id": "ff6ff134",
   "metadata": {},
   "outputs": [],
   "source": [
    "data=requests.get(\"https://www.icc-cricket.com/rankings/mens/team-rankings/odi\")#team ranking\n",
    "data"
   ]
  },
  {
   "cell_type": "code",
   "execution_count": null,
   "id": "11ff0938",
   "metadata": {},
   "outputs": [],
   "source": [
    "soup=BeautifulSoup(data.content)\n",
    "soup"
   ]
  },
  {
   "cell_type": "code",
   "execution_count": null,
   "id": "722e29f6",
   "metadata": {},
   "outputs": [],
   "source": [
    "nation=[]\n",
    "for i in soup.find_all('span',class_=\"u-hide-phablet\"):\n",
    "    nation.append(i.text)\n",
    "nation"
   ]
  },
  {
   "cell_type": "code",
   "execution_count": null,
   "id": "43855b91",
   "metadata": {},
   "outputs": [],
   "source": [
    "matches=[]\n",
    "for i in soup.find_all(\"td\",class_='rankings-block__banner--matches'): \n",
    "    matches.append(i.text)\n",
    "matches"
   ]
  },
  {
   "cell_type": "code",
   "execution_count": null,
   "id": "0d1ea39b",
   "metadata": {},
   "outputs": [],
   "source": [
    "new_list=[]\n",
    "for i in soup.find_all(\"td\",class_='table-body__cell u-center-text'):\n",
    "\n",
    "    new_list.append(i.text)\n",
    "new_list"
   ]
  },
  {
   "cell_type": "code",
   "execution_count": null,
   "id": "d1e4aea7",
   "metadata": {},
   "outputs": [],
   "source": [
    "for i in range(0,len(new_list)-1,2):\n",
    "    matches.append(new_list[i]) # other teams matches\n",
    "matches"
   ]
  },
  {
   "cell_type": "code",
   "execution_count": null,
   "id": "3241adcd",
   "metadata": {},
   "outputs": [],
   "source": [
    "points=[]\n",
    "for i in soup.find_all('td',class_=\"rankings-block__banner--points\"):\n",
    "    points.append(i.text)\n",
    "points"
   ]
  },
  {
   "cell_type": "code",
   "execution_count": null,
   "id": "6af89661",
   "metadata": {},
   "outputs": [],
   "source": [
    "new_points=[]\n",
    "for i in soup.find_all('td',class_=\"table-body__cell u-center-text\"):\n",
    "    new_points.append(i.text)\n",
    "new_points=points+new_points\n",
    "new_points  "
   ]
  },
  {
   "cell_type": "code",
   "execution_count": null,
   "id": "13ec4edd",
   "metadata": {},
   "outputs": [],
   "source": [
    "Points=[]\n",
    "for i in range(0,len(new_points),2):\n",
    "    Points.append(new_points[i])\n",
    "Points"
   ]
  },
  {
   "cell_type": "code",
   "execution_count": null,
   "id": "c11c0e9a",
   "metadata": {},
   "outputs": [],
   "source": [
    "rat=[]\n",
    "for i in soup.find_all('td',class_=\"rankings-block__banner--rating u-text-right\"):\n",
    "    rat.append(i.text.strip())\n",
    "rat"
   ]
  },
  {
   "cell_type": "code",
   "execution_count": null,
   "id": "02e0b27a",
   "metadata": {},
   "outputs": [],
   "source": [
    "Rat=[]\n",
    "for i in soup.find_all('td',class_=\"table-body__cell u-text-right rating\"):\n",
    "    Rat.append(i.text)\n",
    "Rat = rat+Rat\n",
    "Rat"
   ]
  },
  {
   "cell_type": "code",
   "execution_count": null,
   "id": "1422dd02",
   "metadata": {},
   "outputs": [],
   "source": [
    "df=pd.DataFrame({'Country':nation[:10],'Matches':matches[:10],'Points':Points[:10],'Rating':Rat[:10]})\n",
    "    \n",
    "df"
   ]
  },
  {
   "cell_type": "code",
   "execution_count": null,
   "id": "e1cbdc2e",
   "metadata": {},
   "outputs": [],
   "source": [
    "data=requests.get(\"https://www.icc-cricket.com/rankings/mens/player-rankings/odi/batting\")#Batsman ranking\n",
    "data"
   ]
  },
  {
   "cell_type": "code",
   "execution_count": null,
   "id": "287f04aa",
   "metadata": {},
   "outputs": [],
   "source": [
    "soup=BeautifulSoup(data.content)\n",
    "soup"
   ]
  },
  {
   "cell_type": "code",
   "execution_count": null,
   "id": "4c7e5ad6",
   "metadata": {},
   "outputs": [],
   "source": [
    "playr=[]\n",
    "for i in soup.find_all('div',class_=\"rankings-block__banner--name-large\"):\n",
    "    playr.append(i.text)\n",
    "playr"
   ]
  },
  {
   "cell_type": "code",
   "execution_count": null,
   "id": "417ffd35",
   "metadata": {},
   "outputs": [],
   "source": [
    "Ply=[]\n",
    "for i in soup.find_all('td',class_=\"table-body__cell rankings-table__name name\"):\n",
    "    Ply.append(i.text.strip())\n",
    "Ply=playr+Ply\n",
    "Ply"
   ]
  },
  {
   "cell_type": "code",
   "execution_count": null,
   "id": "ed051d4d",
   "metadata": {},
   "outputs": [],
   "source": [
    "cntry=[]\n",
    "for i in soup.find_all('div',class_=\"rankings-block__banner--nationality\"):\n",
    "    cntry.append(i.text.strip())\n",
    "cntry"
   ]
  },
  {
   "cell_type": "code",
   "execution_count": null,
   "id": "8f77ed58",
   "metadata": {},
   "outputs": [],
   "source": [
    "Cntry=[]\n",
    "for i in soup.find_all('span',class_=\"table-body__logo-text\"):\n",
    "    Cntry.append(i.text.strip())\n",
    "Cntry=cntry+Cntry\n",
    "Cntry"
   ]
  },
  {
   "cell_type": "code",
   "execution_count": null,
   "id": "e85bd114",
   "metadata": {},
   "outputs": [],
   "source": [
    "rat=[]\n",
    "for i in soup.find_all('div',class_=\"rankings-block__banner--rating\"):\n",
    "    rat.append(i.text.strip())\n",
    "rat"
   ]
  },
  {
   "cell_type": "code",
   "execution_count": null,
   "id": "fb636dd0",
   "metadata": {},
   "outputs": [],
   "source": [
    "Rat=[]\n",
    "for i in soup.find_all('td',class_=\"table-body__cell rating\"):\n",
    "    Rat.append(i.text.strip())\n",
    "Rat=rat+Rat\n",
    "Rat"
   ]
  },
  {
   "cell_type": "code",
   "execution_count": null,
   "id": "d7cf593f",
   "metadata": {},
   "outputs": [],
   "source": [
    "df=pd.DataFrame({'Palyer':Ply[:10],'Country':Cntry[:10],'Rating':Rat[:10]})\n",
    "df"
   ]
  },
  {
   "cell_type": "code",
   "execution_count": null,
   "id": "63d0ad42",
   "metadata": {},
   "outputs": [],
   "source": [
    "data=requests.get(\"https://www.icc-cricket.com/rankings/mens/player-rankings/odi/bowling\")#Bowler ranking\n",
    "data"
   ]
  },
  {
   "cell_type": "code",
   "execution_count": null,
   "id": "5a7805a9",
   "metadata": {},
   "outputs": [],
   "source": [
    "soup=BeautifulSoup(data.content)\n",
    "soup"
   ]
  },
  {
   "cell_type": "code",
   "execution_count": null,
   "id": "a086408c",
   "metadata": {},
   "outputs": [],
   "source": [
    "playr=[]\n",
    "for i in soup.find_all('div',class_=\"rankings-block__banner--name-large\"):\n",
    "    playr.append(i.text)\n",
    "playr"
   ]
  },
  {
   "cell_type": "code",
   "execution_count": null,
   "id": "a4b37610",
   "metadata": {},
   "outputs": [],
   "source": [
    "Ply=[]\n",
    "for i in soup.find_all('td',class_=\"table-body__cell rankings-table__name name\"):\n",
    "    Ply.append(i.text.strip())\n",
    "Ply=playr+Ply\n",
    "Ply"
   ]
  },
  {
   "cell_type": "code",
   "execution_count": null,
   "id": "240baea9",
   "metadata": {},
   "outputs": [],
   "source": [
    "cntry=[]\n",
    "for i in soup.find_all('div',class_=\"rankings-block__banner--nationality\"):\n",
    "    cntry.append(i.text.strip())\n",
    "cntry"
   ]
  },
  {
   "cell_type": "code",
   "execution_count": null,
   "id": "3a545b77",
   "metadata": {},
   "outputs": [],
   "source": [
    "Cntry=[]\n",
    "for i in soup.find_all('span',class_=\"table-body__logo-text\"):\n",
    "    Cntry.append(i.text.strip())\n",
    "Cntry=cntry+Cntry\n",
    "Cntry"
   ]
  },
  {
   "cell_type": "code",
   "execution_count": null,
   "id": "30b953c4",
   "metadata": {},
   "outputs": [],
   "source": [
    "rat=[]\n",
    "for i in soup.find_all('div',class_=\"rankings-block__banner--rating\"):\n",
    "    rat.append(i.text.strip())\n",
    "rat"
   ]
  },
  {
   "cell_type": "code",
   "execution_count": null,
   "id": "1eae775f",
   "metadata": {},
   "outputs": [],
   "source": [
    "Rat=[]\n",
    "for i in soup.find_all('td',class_=\"table-body__cell rating\"):\n",
    "    Rat.append(i.text.strip())\n",
    "Rat=rat+Rat\n",
    "Rat"
   ]
  },
  {
   "cell_type": "code",
   "execution_count": null,
   "id": "3f93adf8",
   "metadata": {},
   "outputs": [],
   "source": [
    "df=pd.DataFrame({'Palyer':Ply[:10],'Country':Cntry[:10],'Rating':Rat[:10]})\n",
    "df"
   ]
  },
  {
   "cell_type": "markdown",
   "id": "a7803b64",
   "metadata": {},
   "source": [
    "6) Write a python program to scrape cricket rankings from icc-cricket.com. You have to scrape:\n",
    "    a) Top 10 ODI teams in women’s cricket along with the records for matches, points and rating. \n",
    "    b) Top 10 women’s ODI Batting players along with the records of their team and rating. \n",
    "    c) Top 10 women’s ODI all-rounder along with the records of their team and rating. "
   ]
  },
  {
   "cell_type": "code",
   "execution_count": null,
   "id": "6531ef67",
   "metadata": {},
   "outputs": [],
   "source": [
    "data=requests.get(\"https://www.icc-cricket.com/rankings/womens/team-rankings/odi\")#Team ranking\n",
    "data"
   ]
  },
  {
   "cell_type": "code",
   "execution_count": null,
   "id": "bcdad772",
   "metadata": {},
   "outputs": [],
   "source": [
    "soup=BeautifulSoup(data.content)\n",
    "soup"
   ]
  },
  {
   "cell_type": "code",
   "execution_count": null,
   "id": "7a817130",
   "metadata": {},
   "outputs": [],
   "source": [
    "nation=[]\n",
    "for i in soup.find_all('span',class_=\"u-show-phablet\"):\n",
    "    nation.append(i.text)\n",
    "nation"
   ]
  },
  {
   "cell_type": "code",
   "execution_count": null,
   "id": "2d2d0c21",
   "metadata": {},
   "outputs": [],
   "source": [
    "mat=[]\n",
    "for i in soup.find_all('td',class_=\"rankings-block__banner--matches\"):\n",
    "    mat.append(i.text)\n",
    "mat"
   ]
  },
  {
   "cell_type": "code",
   "execution_count": null,
   "id": "7e750d86",
   "metadata": {},
   "outputs": [],
   "source": [
    "Mat=[]\n",
    "for i in soup.find_all('td',class_=\"table-body__cell u-center-text\"):\n",
    "    Mat.append(i.text)\n",
    "Mat"
   ]
  },
  {
   "cell_type": "code",
   "execution_count": null,
   "id": "bd938a10",
   "metadata": {},
   "outputs": [],
   "source": [
    "for i in range(0,len(Mat)-1,2):\n",
    "    mat.append(Mat[i])\n",
    "mat"
   ]
  },
  {
   "cell_type": "code",
   "execution_count": null,
   "id": "fe5d628c",
   "metadata": {},
   "outputs": [],
   "source": [
    "points=[]\n",
    "for i in soup.find_all('td',class_=\"rankings-block__banner--points\"):\n",
    "    points.append(i.text)\n",
    "points"
   ]
  },
  {
   "cell_type": "code",
   "execution_count": null,
   "id": "90c837c9",
   "metadata": {},
   "outputs": [],
   "source": [
    "new_points=[]\n",
    "for i in soup.find_all('td',class_=\"table-body__cell u-center-text\"):\n",
    "    new_points.append(i.text)\n",
    "new_points=points+new_points\n",
    "new_points  "
   ]
  },
  {
   "cell_type": "code",
   "execution_count": null,
   "id": "e926309e",
   "metadata": {},
   "outputs": [],
   "source": [
    "Points=[]\n",
    "for i in range(0,len(new_points),2):\n",
    "    Points.append(new_points[i])\n",
    "Points"
   ]
  },
  {
   "cell_type": "code",
   "execution_count": null,
   "id": "1f264a08",
   "metadata": {},
   "outputs": [],
   "source": [
    "rat=[]\n",
    "for i in soup.find_all('td',class_=\"rankings-block__banner--rating u-text-right\"):\n",
    "    rat.append(i.text.strip())\n",
    "rat"
   ]
  },
  {
   "cell_type": "code",
   "execution_count": null,
   "id": "57e29611",
   "metadata": {},
   "outputs": [],
   "source": [
    "Rat=[]\n",
    "for i in soup.find_all('td',class_=\"table-body__cell u-text-right rating\"):\n",
    "    Rat.append(i.text)\n",
    "Rat = rat+Rat\n",
    "Rat"
   ]
  },
  {
   "cell_type": "code",
   "execution_count": null,
   "id": "f03a5e54",
   "metadata": {},
   "outputs": [],
   "source": [
    "df=pd.DataFrame({'Country':nation[:10],'Matches':mat[:10],'Points':Points[:10],'Rating':Rat[:10]})\n",
    "    \n",
    "df"
   ]
  },
  {
   "cell_type": "code",
   "execution_count": null,
   "id": "bac5f2a9",
   "metadata": {},
   "outputs": [],
   "source": [
    "data=requests.get(\"https://www.icc-cricket.com/rankings/womens/player-rankings/odi/batting\")#Batsman ranking\n",
    "data"
   ]
  },
  {
   "cell_type": "code",
   "execution_count": null,
   "id": "e7547214",
   "metadata": {},
   "outputs": [],
   "source": [
    "soup=BeautifulSoup(data.content)\n",
    "soup"
   ]
  },
  {
   "cell_type": "code",
   "execution_count": null,
   "id": "a9c626b9",
   "metadata": {},
   "outputs": [],
   "source": [
    "playr=[]\n",
    "for i in soup.find_all('div',class_=\"rankings-block__banner--name-large\"):\n",
    "    playr.append(i.text)\n",
    "playr"
   ]
  },
  {
   "cell_type": "code",
   "execution_count": null,
   "id": "b3abb8e3",
   "metadata": {},
   "outputs": [],
   "source": [
    "Ply=[]\n",
    "for i in soup.find_all('td',class_=\"table-body__cell rankings-table__name name\"):\n",
    "    Ply.append(i.text.strip())\n",
    "Ply=playr+Ply\n",
    "Ply"
   ]
  },
  {
   "cell_type": "code",
   "execution_count": null,
   "id": "f372b47a",
   "metadata": {},
   "outputs": [],
   "source": [
    "cntry=[]\n",
    "for i in soup.find_all('div',class_=\"rankings-block__banner--nationality\"):\n",
    "    cntry.append(i.text.strip())\n",
    "cntry"
   ]
  },
  {
   "cell_type": "code",
   "execution_count": null,
   "id": "d557af9b",
   "metadata": {},
   "outputs": [],
   "source": [
    "Cntry=[]\n",
    "for i in soup.find_all('span',class_=\"table-body__logo-text\"):\n",
    "    Cntry.append(i.text.strip())\n",
    "Cntry=cntry+Cntry\n",
    "Cntry"
   ]
  },
  {
   "cell_type": "code",
   "execution_count": null,
   "id": "ccd8f851",
   "metadata": {},
   "outputs": [],
   "source": [
    "rat=[]\n",
    "for i in soup.find_all('div',class_=\"rankings-block__banner--rating\"):\n",
    "    rat.append(i.text.strip())\n",
    "rat"
   ]
  },
  {
   "cell_type": "code",
   "execution_count": null,
   "id": "6d11a375",
   "metadata": {},
   "outputs": [],
   "source": [
    "Rat=[]\n",
    "for i in soup.find_all('td',class_=\"table-body__cell rating\"):\n",
    "    Rat.append(i.text.strip())\n",
    "Rat=rat+Rat\n",
    "Rat"
   ]
  },
  {
   "cell_type": "code",
   "execution_count": null,
   "id": "ba735aae",
   "metadata": {},
   "outputs": [],
   "source": [
    "df=pd.DataFrame({'Palyer':Ply[:10],'Country':Cntry[:10],'Rating':Rat[:10]})\n",
    "df"
   ]
  },
  {
   "cell_type": "code",
   "execution_count": null,
   "id": "31d9b8ac",
   "metadata": {},
   "outputs": [],
   "source": [
    "data=requests.get(\"https://www.icc-cricket.com/rankings/womens/player-rankings/odi/bowling\")#Bowler ranking\n",
    "data"
   ]
  },
  {
   "cell_type": "code",
   "execution_count": null,
   "id": "8f815be2",
   "metadata": {},
   "outputs": [],
   "source": [
    "soup=BeautifulSoup(data.content)\n",
    "soup"
   ]
  },
  {
   "cell_type": "code",
   "execution_count": null,
   "id": "44ff53ea",
   "metadata": {},
   "outputs": [],
   "source": [
    "playr=[]\n",
    "for i in soup.find_all('div',class_=\"rankings-block__banner--name-large\"):\n",
    "    playr.append(i.text)\n",
    "playr"
   ]
  },
  {
   "cell_type": "code",
   "execution_count": null,
   "id": "627e75f4",
   "metadata": {},
   "outputs": [],
   "source": [
    "Ply=[]\n",
    "for i in soup.find_all('td',class_=\"table-body__cell rankings-table__name name\"):\n",
    "    Ply.append(i.text.strip())\n",
    "Ply=playr+Ply\n",
    "Ply"
   ]
  },
  {
   "cell_type": "code",
   "execution_count": null,
   "id": "2e6fe9b2",
   "metadata": {},
   "outputs": [],
   "source": [
    "cntry=[]\n",
    "for i in soup.find_all('div',class_=\"rankings-block__banner--nationality\"):\n",
    "    cntry.append(i.text.strip())\n",
    "cntry"
   ]
  },
  {
   "cell_type": "code",
   "execution_count": null,
   "id": "fcfc6dcf",
   "metadata": {},
   "outputs": [],
   "source": [
    "Cntry=[]\n",
    "for i in soup.find_all('span',class_=\"table-body__logo-text\"):\n",
    "    Cntry.append(i.text.strip())\n",
    "Cntry=cntry+Cntry\n",
    "Cntry"
   ]
  },
  {
   "cell_type": "code",
   "execution_count": null,
   "id": "44cdd4ee",
   "metadata": {},
   "outputs": [],
   "source": [
    "rat=[]\n",
    "for i in soup.find_all('div',class_=\"rankings-block__banner--rating\"):\n",
    "    rat.append(i.text.strip())\n",
    "rat"
   ]
  },
  {
   "cell_type": "code",
   "execution_count": null,
   "id": "0feab718",
   "metadata": {},
   "outputs": [],
   "source": [
    "Rat=[]\n",
    "for i in soup.find_all('td',class_=\"table-body__cell rating\"):\n",
    "    Rat.append(i.text.strip())\n",
    "Rat=rat+Rat\n",
    "Rat"
   ]
  },
  {
   "cell_type": "code",
   "execution_count": null,
   "id": "61c4030b",
   "metadata": {},
   "outputs": [],
   "source": [
    "df=pd.DataFrame({'Palyer':Ply[:10],'Country':Cntry[:10],'Rating':Rat[:10]})\n",
    "df"
   ]
  },
  {
   "cell_type": "code",
   "execution_count": null,
   "id": "84c43a0c",
   "metadata": {},
   "outputs": [],
   "source": []
  }
 ],
 "metadata": {
  "kernelspec": {
   "display_name": "Python 3 (ipykernel)",
   "language": "python",
   "name": "python3"
  },
  "language_info": {
   "codemirror_mode": {
    "name": "ipython",
    "version": 3
   },
   "file_extension": ".py",
   "mimetype": "text/x-python",
   "name": "python",
   "nbconvert_exporter": "python",
   "pygments_lexer": "ipython3",
   "version": "3.9.13"
  }
 },
 "nbformat": 4,
 "nbformat_minor": 5
}

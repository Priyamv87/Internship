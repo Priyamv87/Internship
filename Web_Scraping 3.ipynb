{
 "cells": [
  {
   "cell_type": "markdown",
   "id": "73d5b611",
   "metadata": {},
   "source": [
    "3. Write a python program to access the search bar and search button on images.google.com and scrape 10\n",
    "images each for keywords ‘fruits’, ‘cars’ and ‘Machine Learning’, ‘Guitar’, ‘Cakes’."
   ]
  },
  {
   "cell_type": "code",
   "execution_count": null,
   "id": "3e8b0545",
   "metadata": {},
   "outputs": [],
   "source": [
    "!pip install selenium"
   ]
  },
  {
   "cell_type": "code",
   "execution_count": null,
   "id": "359dce78",
   "metadata": {},
   "outputs": [],
   "source": [
    "#import all the necessary libreries\n",
    "import selenium\n",
    "from selenium import webdriver\n",
    "import pandas as pd\n",
    "from selenium.webdriver.common.by import By\n",
    "import warnings\n",
    "warnings.filterwarnings('ignore')\n",
    "import time\n",
    "import urllib"
   ]
  },
  {
   "cell_type": "code",
   "execution_count": null,
   "id": "4ce7c1d7",
   "metadata": {},
   "outputs": [],
   "source": [
    "#connecting to webdriver\n",
    "driver= webdriver.Chrome(r'C:\\Users\\USER\\Downloads\\chromedriver_win32\\chromedriver.exe')"
   ]
  },
  {
   "cell_type": "code",
   "execution_count": null,
   "id": "18935a3d",
   "metadata": {},
   "outputs": [],
   "source": [
    "#maxmize the window\n",
    "driver.maximize_window()"
   ]
  },
  {
   "cell_type": "code",
   "execution_count": null,
   "id": "a3faef1c",
   "metadata": {},
   "outputs": [],
   "source": [
    "#get into the website\n",
    "web='https://images.google.com/?gws_rd=ssl'\n",
    "driver.get(web)"
   ]
  },
  {
   "cell_type": "code",
   "execution_count": null,
   "id": "1d3d960a",
   "metadata": {},
   "outputs": [],
   "source": [
    "search=driver.find_element(By.CLASS_NAME,\"gLFyf\")\n",
    "search.send_keys('Fruits')"
   ]
  },
  {
   "cell_type": "code",
   "execution_count": null,
   "id": "1d56b14e",
   "metadata": {},
   "outputs": [],
   "source": [
    "btn=driver.find_element(By.XPATH,'//span[@class=\"z1asCe MZy1Rb\"]')\n",
    "btn.click()"
   ]
  },
  {
   "cell_type": "code",
   "execution_count": null,
   "id": "b690219a",
   "metadata": {},
   "outputs": [],
   "source": [
    "fruits=[]\n",
    "Fruit=driver.find_elements(By.XPATH,'//img[@class=\"rg_i Q4LuWd\"]')\n",
    "for i in Fruit[:10]:\n",
    "    fruits.append(i.get_attribute('src'))\n",
    "fruits"
   ]
  },
  {
   "cell_type": "code",
   "execution_count": null,
   "id": "4610a344",
   "metadata": {},
   "outputs": [],
   "source": [
    "srch=driver.find_element(By.CLASS_NAME,'og3lId')\n",
    "srch.clear()\n",
    "srch.send_keys('Cars')\n",
    "btn=driver.find_element(By.XPATH,'//span[@class=\"n6h3Rc\"]')\n",
    "btn.click()"
   ]
  },
  {
   "cell_type": "code",
   "execution_count": null,
   "id": "6dfeef5c",
   "metadata": {},
   "outputs": [],
   "source": [
    "cars=[]\n",
    "Car=driver.find_elements(By.XPATH,'//img[@class=\"rg_i Q4LuWd\"]')\n",
    "for i in Car[:10]:\n",
    "    cars.append(i.get_attribute('src'))\n",
    "cars"
   ]
  },
  {
   "cell_type": "code",
   "execution_count": null,
   "id": "c906c854",
   "metadata": {},
   "outputs": [],
   "source": [
    "srch=driver.find_element(By.CLASS_NAME,'og3lId')\n",
    "srch.clear()\n",
    "srch.send_keys('Machine Learning')\n",
    "btn=driver.find_element(By.XPATH,'//span[@class=\"n6h3Rc\"]')\n",
    "btn.click()"
   ]
  },
  {
   "cell_type": "code",
   "execution_count": null,
   "id": "c01b4730",
   "metadata": {},
   "outputs": [],
   "source": [
    "M_L=[]\n",
    "ML=driver.find_elements(By.XPATH,'//img[@class=\"rg_i Q4LuWd\"]')\n",
    "for i in ML[:10]:\n",
    "    M_L.append(i.get_attribute('src'))\n",
    "M_L"
   ]
  },
  {
   "cell_type": "code",
   "execution_count": null,
   "id": "dda2f13c",
   "metadata": {},
   "outputs": [],
   "source": [
    "srch=driver.find_element(By.CLASS_NAME,'og3lId')\n",
    "srch.clear()\n",
    "srch.send_keys('Guitar')\n",
    "btn=driver.find_element(By.XPATH,'//span[@class=\"n6h3Rc\"]')\n",
    "btn.click()"
   ]
  },
  {
   "cell_type": "code",
   "execution_count": null,
   "id": "793ed7b0",
   "metadata": {},
   "outputs": [],
   "source": [
    "Guitar=[]\n",
    "gui=driver.find_elements(By.XPATH,'//img[@class=\"rg_i Q4LuWd\"]')\n",
    "for i in gui[:10]:\n",
    "    Guitar.append(i.get_attribute('src'))\n",
    "Guitar"
   ]
  },
  {
   "cell_type": "code",
   "execution_count": null,
   "id": "d48aab95",
   "metadata": {},
   "outputs": [],
   "source": [
    "srch=driver.find_element(By.CLASS_NAME,'og3lId')\n",
    "srch.clear()\n",
    "srch.send_keys('Cakes')\n",
    "btn=driver.find_element(By.XPATH,'//span[@class=\"n6h3Rc\"]')\n",
    "btn.click()"
   ]
  },
  {
   "cell_type": "code",
   "execution_count": null,
   "id": "fb63b0bb",
   "metadata": {},
   "outputs": [],
   "source": [
    "Cake=[]\n",
    "ck=driver.find_elements(By.XPATH,'//img[@class=\"rg_i Q4LuWd\"]')\n",
    "for i in ck[:10]:\n",
    "    Cake.append(i.get_attribute('src'))\n",
    "Cake"
   ]
  },
  {
   "cell_type": "code",
   "execution_count": null,
   "id": "7603029c",
   "metadata": {},
   "outputs": [],
   "source": [
    "driver.close()"
   ]
  },
  {
   "cell_type": "markdown",
   "id": "3c7f552d",
   "metadata": {},
   "source": [
    "10. Write a python program to scrape a data for all available Hostels from https://www.hostelworld.com/ in\n",
    "“London” location. You have to scrape hostel name, distance from city centre, ratings, total reviews,\n",
    "overall reviews, privates from price, dorms from price, facilities and property description."
   ]
  },
  {
   "cell_type": "code",
   "execution_count": null,
   "id": "c69b025e",
   "metadata": {},
   "outputs": [],
   "source": [
    "#connecting to webdriver\n",
    "driver= webdriver.Chrome(r'C:\\Users\\USER\\Downloads\\chromedriver_win32\\chromedriver.exe')"
   ]
  },
  {
   "cell_type": "code",
   "execution_count": null,
   "id": "3db42958",
   "metadata": {},
   "outputs": [],
   "source": [
    "#maxmize the window\n",
    "driver.maximize_window()"
   ]
  },
  {
   "cell_type": "code",
   "execution_count": null,
   "id": "90ee268b",
   "metadata": {},
   "outputs": [],
   "source": [
    "#get into the website\n",
    "web='https://www.hostelworld.com/'\n",
    "driver.get(web)"
   ]
  },
  {
   "cell_type": "code",
   "execution_count": null,
   "id": "82b05a6f",
   "metadata": {},
   "outputs": [],
   "source": [
    "srch=driver.find_element(By.XPATH,'/html/body/div[3]/div/div/div[2]/div[1]/div/div/div[4]/div/div[2]/div/div[1]/div/div/div/input')\n",
    "srch.send_keys('London')"
   ]
  },
  {
   "cell_type": "code",
   "execution_count": null,
   "id": "f0e5faad",
   "metadata": {},
   "outputs": [],
   "source": [
    "btn=driver.find_element(By.XPATH,'/html/body/div[3]/div/div/div[2]/div[1]/div/div/div[4]/div/div[2]/div/div[1]/div/div/ul/li[2]/div')\n",
    "btn.click()"
   ]
  },
  {
   "cell_type": "code",
   "execution_count": null,
   "id": "657d7f89",
   "metadata": {},
   "outputs": [],
   "source": [
    "go=driver.find_element(By.XPATH,'/html/body/div[3]/div/div/div[2]/div[1]/div/div/div[4]/div/div[2]/div/div[5]/button')\n",
    "go.click()"
   ]
  },
  {
   "cell_type": "code",
   "execution_count": null,
   "id": "0a1d8dad",
   "metadata": {},
   "outputs": [],
   "source": [
    "host=[]\n",
    "Host=driver.find_elements(By.XPATH,'//h2[@class=\"title title-6\"]')\n",
    "for i in Host:\n",
    "    host.append(i.text)\n",
    "time.sleep(10)\n",
    "host"
   ]
  },
  {
   "cell_type": "code",
   "execution_count": null,
   "id": "df2739d6",
   "metadata": {},
   "outputs": [],
   "source": [
    "#distance\n",
    "dist=[]\n",
    "dst=driver.find_elements(By.XPATH,'//span[@class=\"description\"]')\n",
    "for i in dst:\n",
    "    dist.append(i.text)\n",
    "dist"
   ]
  },
  {
   "cell_type": "code",
   "execution_count": null,
   "id": "d306b396",
   "metadata": {},
   "outputs": [],
   "source": [
    "rat=[]\n",
    "Rat=driver.find_elements(By.XPATH,'//div[@class=\"score orange big\"]')\n",
    "for i in Rat:\n",
    "    rat.append(i.text)\n",
    "rat"
   ]
  },
  {
   "cell_type": "code",
   "execution_count": null,
   "id": "d885fc87",
   "metadata": {},
   "outputs": [],
   "source": [
    "tr=[]\n",
    "Total=driver.find_elements(By.XPATH,'//div[@class=\"reviews\"]')\n",
    "for i in Total:\n",
    "    tr.append(i.text)\n",
    "tr"
   ]
  },
  {
   "cell_type": "code",
   "execution_count": null,
   "id": "da229c9b",
   "metadata": {},
   "outputs": [],
   "source": [
    "Pri_price=[]\n",
    "price=driver.find_elements(By.XPATH,'//div[@class=\"price title-5\"]')\n",
    "for i in price:\n",
    "    Pri_price.append(i.text)\n",
    "Pri_price"
   ]
  },
  {
   "cell_type": "markdown",
   "id": "b7fd66fd",
   "metadata": {},
   "source": [
    "8. Write a python program to scrape the details for all billionaires from www.forbes.com. Details to be\n",
    "scrapped: “Rank”, “Name”, “Net worth”, “Age”, “Citizenship”, “Source”, “Industry”."
   ]
  },
  {
   "cell_type": "code",
   "execution_count": null,
   "id": "3053390f",
   "metadata": {},
   "outputs": [],
   "source": [
    "driver= webdriver.Chrome(r'C:\\Users\\USER\\Downloads\\chromedriver_win32\\chromedriver.exe')"
   ]
  },
  {
   "cell_type": "code",
   "execution_count": null,
   "id": "6c9a4e3a",
   "metadata": {},
   "outputs": [],
   "source": [
    "driver.maximize_window()"
   ]
  },
  {
   "cell_type": "code",
   "execution_count": null,
   "id": "be146035",
   "metadata": {},
   "outputs": [],
   "source": [
    "web='https://www.forbes.com/billionaires/'\n",
    "driver.get(web)"
   ]
  },
  {
   "cell_type": "code",
   "execution_count": null,
   "id": "4964b30a",
   "metadata": {},
   "outputs": [],
   "source": [
    "rank=[]\n",
    "rnk=driver.find_elements(By.XPATH,'//div[@class=\"rank\"]')\n",
    "for i in rnk:\n",
    "    rank.append(i.text)\n",
    "rank"
   ]
  },
  {
   "cell_type": "code",
   "execution_count": null,
   "id": "a150a061",
   "metadata": {},
   "outputs": [],
   "source": [
    "name=[]\n",
    "Na=driver.find_elements(By.XPATH,'//div[@class=\"personName\"]')\n",
    "for i in Na:\n",
    "    name.append(i.text)\n",
    "name"
   ]
  },
  {
   "cell_type": "code",
   "execution_count": null,
   "id": "b118498f",
   "metadata": {},
   "outputs": [],
   "source": [
    "nw=[]\n",
    "NW=driver.find_elements(By.XPATH,'//div[@class=\"netWorth\"]')\n",
    "for i in NW:\n",
    "    nw.append(i.text)\n",
    "nw"
   ]
  },
  {
   "cell_type": "code",
   "execution_count": null,
   "id": "5a4cb4d7",
   "metadata": {},
   "outputs": [],
   "source": [
    "age=[]\n",
    "ag=driver.find_elements(By.XPATH,'//div[@class=\"age\"]')\n",
    "for i in ag:\n",
    "    age.append(i.text)\n",
    "age"
   ]
  },
  {
   "cell_type": "code",
   "execution_count": null,
   "id": "d21a080c",
   "metadata": {},
   "outputs": [],
   "source": [
    "cntry=[]\n",
    "Coun=driver.find_elements(By.XPATH,'//div[@class=\"countryOfCitizenship\"]')\n",
    "for i in Coun:\n",
    "    cntry.append(i.text)\n",
    "cntry"
   ]
  },
  {
   "cell_type": "code",
   "execution_count": null,
   "id": "5abed691",
   "metadata": {},
   "outputs": [],
   "source": [
    "src=[]\n",
    "Src=driver.find_elements(By.XPATH,'//span[@class=\"source-text\"]')\n",
    "for i in Src:\n",
    "    src.append(i.text)\n",
    "src"
   ]
  },
  {
   "cell_type": "code",
   "execution_count": null,
   "id": "bd2685f4",
   "metadata": {},
   "outputs": [],
   "source": [
    "Ind=[]\n",
    "ind=driver.find_elements(By.XPATH,'//div[@class=\"category\"]')\n",
    "for i in ind:\n",
    "    Ind.append(i.text)\n",
    "Ind"
   ]
  },
  {
   "cell_type": "code",
   "execution_count": null,
   "id": "19e46345",
   "metadata": {},
   "outputs": [],
   "source": [
    "print(len(rank),len(name),len(nw),len(age),len(cntry),len(src),len(Ind))"
   ]
  },
  {
   "cell_type": "code",
   "execution_count": null,
   "id": "f16c2e02",
   "metadata": {},
   "outputs": [],
   "source": [
    "driver.close()"
   ]
  },
  {
   "cell_type": "markdown",
   "id": "05483fea",
   "metadata": {},
   "source": [
    "7. Write a program to scrap all the available details of best gaming laptops from digit.in."
   ]
  },
  {
   "cell_type": "code",
   "execution_count": null,
   "id": "acc9ffa7",
   "metadata": {},
   "outputs": [],
   "source": [
    "driver= webdriver.Chrome(r'C:\\Users\\USER\\Downloads\\chromedriver_win32\\chromedriver.exe')"
   ]
  },
  {
   "cell_type": "code",
   "execution_count": null,
   "id": "6cea7d33",
   "metadata": {},
   "outputs": [],
   "source": [
    "driver.maximize_window()"
   ]
  },
  {
   "cell_type": "code",
   "execution_count": null,
   "id": "af150a1c",
   "metadata": {},
   "outputs": [],
   "source": [
    "web='https://www.digit.in/'\n",
    "driver.get(web)"
   ]
  },
  {
   "cell_type": "code",
   "execution_count": null,
   "id": "d8e92480",
   "metadata": {},
   "outputs": [],
   "source": [
    "lap=driver.find_element(By.XPATH,'/html/body/div[1]/div/div[4]/ul/li[3]/a')\n",
    "lap.click()"
   ]
  },
  {
   "cell_type": "code",
   "execution_count": null,
   "id": "c3e88d3b",
   "metadata": {},
   "outputs": [],
   "source": [
    "bst=driver.find_element(By.XPATH,'/html/body/div[6]/div/div[2]/div[2]/ul/li[10]/a')\n",
    "bst.click()"
   ]
  },
  {
   "cell_type": "code",
   "execution_count": null,
   "id": "f708e11d",
   "metadata": {},
   "outputs": [],
   "source": [
    "name=[]\n",
    "mod=driver.find_elements(By.XPATH,'//div[@class=\"TopNumbeHeading\"]')\n",
    "for i in mod:\n",
    "    name.append(i.text.replace(\"\\n\",\" \"))\n",
    "name"
   ]
  },
  {
   "cell_type": "code",
   "execution_count": null,
   "id": "aa94046e",
   "metadata": {},
   "outputs": [],
   "source": [
    "spec=[]\n",
    "sp=driver.find_elements(By.XPATH,'//div[@class=\"Spcs-details\"]')\n",
    "for i in sp:\n",
    "    spec.append(i.text.replace('\\n',\" \"))\n",
    "spec"
   ]
  },
  {
   "cell_type": "markdown",
   "id": "6b9c7c5c",
   "metadata": {},
   "source": [
    "6. Write a program to scrap details of all the funding deals for second quarter (i.e Jan 21 – March 21)\n",
    "from trak.in."
   ]
  },
  {
   "cell_type": "code",
   "execution_count": null,
   "id": "e9aa29db",
   "metadata": {},
   "outputs": [],
   "source": [
    "driver= webdriver.Chrome(r'C:\\Users\\USER\\Downloads\\chromedriver_win32\\chromedriver.exe')"
   ]
  },
  {
   "cell_type": "code",
   "execution_count": null,
   "id": "32deebea",
   "metadata": {},
   "outputs": [],
   "source": [
    "driver.maximize_window()"
   ]
  },
  {
   "cell_type": "code",
   "execution_count": null,
   "id": "f29f3eb9",
   "metadata": {},
   "outputs": [],
   "source": [
    "page='https://trak.in/'\n",
    "driver.get(page)"
   ]
  },
  {
   "cell_type": "code",
   "execution_count": null,
   "id": "f37dc2df",
   "metadata": {},
   "outputs": [],
   "source": [
    "loc=driver.find_element(By.XPATH,'/html/body/div[1]/header/div[2]/div/div/div/div/nav/ul/li[9]/a')\n",
    "loc.click()"
   ]
  },
  {
   "cell_type": "code",
   "execution_count": null,
   "id": "8973c89b",
   "metadata": {},
   "outputs": [],
   "source": [
    "date=[]\n",
    "Date=driver.find_elements(By.XPATH,'//td[@class=\"column-2\"]')\n",
    "for i in Date[5:29]:\n",
    "    date.append(i.text)\n",
    "date"
   ]
  },
  {
   "cell_type": "code",
   "execution_count": null,
   "id": "21f7462c",
   "metadata": {},
   "outputs": [],
   "source": [
    "name=[]\n",
    "Name=driver.find_elements(By.XPATH,'//td[@class=\"column-3\"]')\n",
    "for i in Name[5:29]:\n",
    "    name.append(i.text)\n",
    "name"
   ]
  },
  {
   "cell_type": "code",
   "execution_count": null,
   "id": "918b0f1a",
   "metadata": {},
   "outputs": [],
   "source": [
    "ind=[]\n",
    "Ind=driver.find_elements(By.XPATH,'//td[@class=\"column-4\"]')\n",
    "for i in Ind[5:29]:\n",
    "    ind.append(i.text)\n",
    "ind"
   ]
  },
  {
   "cell_type": "code",
   "execution_count": null,
   "id": "c0abde84",
   "metadata": {},
   "outputs": [],
   "source": [
    "loc=[]\n",
    "Loc=driver.find_elements(By.XPATH,'//td[@class=\"column-6\"]')\n",
    "for i in Loc[5:29]:\n",
    "    loc.append(i.text)\n",
    "loc"
   ]
  },
  {
   "cell_type": "code",
   "execution_count": null,
   "id": "1c87cbb0",
   "metadata": {},
   "outputs": [],
   "source": [
    "inv=[]\n",
    "Inv=driver.find_elements(By.XPATH,'//td[@class=\"column-7\"]')\n",
    "for i in Inv[5:29]:\n",
    "    inv.append(i.text)\n",
    "inv"
   ]
  },
  {
   "cell_type": "code",
   "execution_count": null,
   "id": "817470df",
   "metadata": {},
   "outputs": [],
   "source": [
    "ser=[]\n",
    "Ser=driver.find_elements(By.XPATH,'//td[@class=\"column-8\"]')\n",
    "for i in Ser[5:29]:\n",
    "    ser.append(i.text)\n",
    "ser"
   ]
  },
  {
   "cell_type": "code",
   "execution_count": null,
   "id": "de986b77",
   "metadata": {},
   "outputs": [],
   "source": [
    "amt=[]\n",
    "Amt=driver.find_elements(By.XPATH,'//td[@class=\"column-9\"]')\n",
    "for i in Amt[5:29]:\n",
    "    amt.append(i.text)\n",
    "amt"
   ]
  },
  {
   "cell_type": "markdown",
   "id": "95d62a8c",
   "metadata": {},
   "source": [
    "4. Write a python program to search for a smartphone(e.g.: Oneplus Nord, pixel 4A, etc.) on\n",
    "www.flipkart.com and scrape following details for all the search results displayed on 1st page. Details to be\n",
    "scraped: “Brand Name”, “Smartphone name”, “Colour”, “RAM”, “Storage(ROM)”, “Primary Camera”,\n",
    "“Secondary Camera”, “Display Size”, “Battery Capacity”, “Price”, “Product URL”. Incase if any of the\n",
    "details is missing then replace it by “- “. Save your results in a dataframe and CSV."
   ]
  },
  {
   "cell_type": "code",
   "execution_count": null,
   "id": "2a447d0c",
   "metadata": {},
   "outputs": [],
   "source": [
    "driver= webdriver.Chrome(r'C:\\Users\\USER\\Downloads\\chromedriver_win32\\chromedriver.exe')"
   ]
  },
  {
   "cell_type": "code",
   "execution_count": null,
   "id": "c59a7873",
   "metadata": {},
   "outputs": [],
   "source": [
    "driver.maximize_window()"
   ]
  },
  {
   "cell_type": "code",
   "execution_count": null,
   "id": "bff0023e",
   "metadata": {},
   "outputs": [],
   "source": [
    "page='https://www.flipkart.com/'\n",
    "driver.get(page)"
   ]
  },
  {
   "cell_type": "code",
   "execution_count": null,
   "id": "c93c867b",
   "metadata": {},
   "outputs": [],
   "source": [
    "srch=driver.find_element(By.CLASS_NAME,\"_3704LK\")\n",
    "srch.send_keys('mobiles')"
   ]
  },
  {
   "cell_type": "code",
   "execution_count": null,
   "id": "634cf036",
   "metadata": {},
   "outputs": [],
   "source": [
    "btn=driver.find_element(By.CLASS_NAME,'L0Z3Pu')\n",
    "btn.click()"
   ]
  },
  {
   "cell_type": "code",
   "execution_count": null,
   "id": "7dd0bb75",
   "metadata": {},
   "outputs": [],
   "source": [
    "nam=[]\n",
    "name=driver.find_elements(By.XPATH,'//div[@class=\"_4rR01T\"]')\n",
    "for i in name:\n",
    "    nam.append(i.text)\n",
    "nam"
   ]
  },
  {
   "cell_type": "code",
   "execution_count": null,
   "id": "7e5e8d5e",
   "metadata": {},
   "outputs": [],
   "source": [
    "price=[]\n",
    "pri=driver.find_elements(By.XPATH,'//div[@class=\"_30jeq3 _1_WHN1\"]')\n",
    "for i in pri:\n",
    "    price.append(i.text)\n",
    "price"
   ]
  },
  {
   "cell_type": "code",
   "execution_count": null,
   "id": "c2561d54",
   "metadata": {},
   "outputs": [],
   "source": [
    "SPEC=[]\n",
    "spec=driver.find_elements(By.XPATH,'//li[@class=\"rgWa7D\"]')\n",
    "for i in spec:\n",
    "    SPEC.append(i.text)\n",
    "SPEC"
   ]
  },
  {
   "cell_type": "code",
   "execution_count": null,
   "id": "84ce0759",
   "metadata": {},
   "outputs": [],
   "source": [
    "url=[]\n",
    "prourl=driver.find_elements(By.XPATH,'//a[@class=\"_1fQZEK\"]')\n",
    "for i in prourl:\n",
    "    url.append(i.get_attribute('href'))\n",
    "url"
   ]
  },
  {
   "cell_type": "code",
   "execution_count": null,
   "id": "7c838421",
   "metadata": {},
   "outputs": [],
   "source": [
    "print(len(nam),len(price),len(SPEC),len(url))"
   ]
  },
  {
   "cell_type": "code",
   "execution_count": null,
   "id": "e5d60221",
   "metadata": {},
   "outputs": [],
   "source": [
    "df=pd.DataFrame()\n",
    "df['Model']=nam\n",
    "df['Price']=price\n",
    "df['Specification']=SPEC\n",
    "df['Link']=url\n",
    "df"
   ]
  },
  {
   "cell_type": "code",
   "execution_count": null,
   "id": "d48ca9c0",
   "metadata": {},
   "outputs": [],
   "source": [
    "driver.close()"
   ]
  },
  {
   "cell_type": "code",
   "execution_count": null,
   "id": "5a8ebdc6",
   "metadata": {},
   "outputs": [],
   "source": []
  }
 ],
 "metadata": {
  "kernelspec": {
   "display_name": "Python 3 (ipykernel)",
   "language": "python",
   "name": "python3"
  },
  "language_info": {
   "codemirror_mode": {
    "name": "ipython",
    "version": 3
   },
   "file_extension": ".py",
   "mimetype": "text/x-python",
   "name": "python",
   "nbconvert_exporter": "python",
   "pygments_lexer": "ipython3",
   "version": "3.9.13"
  }
 },
 "nbformat": 4,
 "nbformat_minor": 5
}

{
 "cells": [
  {
   "cell_type": "markdown",
   "metadata": {},
   "source": [
    "PYTHON WORKSHEET 1"
   ]
  },
  {
   "cell_type": "markdown",
   "metadata": {},
   "source": [
    "1. Which of the following operators is used to calculate remainder in a division?   --%\n",
    "\n",
    "2. In python 2//3 is equal to?  --0\n",
    "\n",
    "3. In python, 6<<2 is equal to?  --24\n",
    "\n",
    "4. In python, 6&2 will give which of the following as output?  --2\n",
    "\n",
    "5. In python, 6|2 will give which of the following as output?    --6\n",
    "\n",
    "6. What does the finally keyword denotes in python?   --\n",
    "C) the finally block will be executed no matter if the try block raises an error or not. \n",
    "\n",
    "7. What does raise keyword is used for in python? --\n",
    "A) It is used to raise an exception. \n",
    "\n",
    "8. Which of the following is a common use case of yield keyword in python? --\n",
    "C) in defining a generator\n",
    "\n",
    "9. Which of the following are the valid variable names? --  A) _abc  C) abc2\n",
    "\n",
    "10. Which of the following are the keywords in python? --  A) yield B) raise \n"
   ]
  },
  {
   "cell_type": "markdown",
   "metadata": {},
   "source": [
    "11. Write a python program to find the factorial of a number."
   ]
  },
  {
   "cell_type": "code",
   "execution_count": null,
   "metadata": {},
   "outputs": [],
   "source": [
    "import math\n",
    "X=int(input(\"Enter the number=\"))\n",
    "Factorial=math.factorial(X)\n",
    "print (\"Factorial of number=\", Factorial)"
   ]
  },
  {
   "cell_type": "markdown",
   "metadata": {},
   "source": [
    "12. Write a python program to find whether a number is prime or composite"
   ]
  },
  {
   "cell_type": "code",
   "execution_count": null,
   "metadata": {},
   "outputs": [],
   "source": [
    "num=int(input(\"Enter the number:\"))\n",
    "if num > 1:\n",
    "    for i in range(2,num):\n",
    "        if(num % i)==0:\n",
    "            print(num, \" is not a prime number and is a composite number\")\n",
    "            break\n",
    "        else:\n",
    "            print(num,\" is a prime number\")\n",
    "elif num ==0 or 1:\n",
    "    print(num, \" is neither prime number nor composite number\")"
   ]
  },
  {
   "cell_type": "markdown",
   "metadata": {},
   "source": [
    "13. Write a python program to check whether a given string is palindrome or not."
   ]
  },
  {
   "cell_type": "code",
   "execution_count": null,
   "metadata": {},
   "outputs": [],
   "source": [
    "name=input(\"Enter any word: \")\n",
    "if (name==name[::-1]):\n",
    "    print(name, \" is a palindrome\")\n",
    "else:\n",
    "    print(name, \" is not a palindrome\")"
   ]
  },
  {
   "cell_type": "code",
   "execution_count": null,
   "metadata": {},
   "outputs": [],
   "source": [
    "num =int(input(\"Enter number: \"))\n",
    "temp=num\n",
    "rev=0\n",
    "while (num>0):\n",
    "    dig=num%10\n",
    "    rev=rev*10+dig\n",
    "    num=num//10\n",
    "if (temp==rev):\n",
    "    print(\"Is a palindrome\")\n",
    "else:\n",
    "    print(\"Is not a palindrome\")"
   ]
  },
  {
   "cell_type": "markdown",
   "metadata": {},
   "source": [
    "14. Write a Python program to get the third side of right-angled triangle from two given sides."
   ]
  },
  {
   "cell_type": "code",
   "execution_count": null,
   "metadata": {},
   "outputs": [],
   "source": [
    "def pythagoras(opp_side,adj_side,hypotenuse):\n",
    "        if opp_side == str(\"x\"):\n",
    "            return (\"Opp_side = \" + str(((hypotenuse**2) - (adj_side**2))**0.5))\n",
    "        elif adj_side == str(\"x\"):\n",
    "            return (\"Adj_side = \" + str(((hypotenuse**2) - (opp_side**2))**0.5))\n",
    "        elif hypotenuse == str(\"x\"):\n",
    "            return (\"Hypotenuse = \" + str(((opp_side**2) + (adj_side**2))**0.5))\n",
    "        else:\n",
    "            return \"You know the answer!\"\n",
    "    \n",
    "print(pythagoras(6,7,'x'))\n",
    "print(pythagoras(6,'x',8))\n",
    "print(pythagoras('x',7,8))\n",
    "print(pythagoras(6,7,8))"
   ]
  },
  {
   "cell_type": "markdown",
   "metadata": {},
   "source": [
    "15. Write a python program to print the frequency of each of the characters present in a given string."
   ]
  },
  {
   "cell_type": "code",
   "execution_count": null,
   "metadata": {},
   "outputs": [],
   "source": [
    "string = input(\"Enter a string: \")\n",
    "lst = []\n",
    "for char in string:\n",
    "    if char not in lst:\n",
    "        lst.append(char)\n",
    "for i in lst:\n",
    "    print(i,string.count(i), sep = \",\")"
   ]
  },
  {
   "cell_type": "code",
   "execution_count": null,
   "metadata": {},
   "outputs": [],
   "source": []
  }
 ],
 "metadata": {
  "kernelspec": {
   "display_name": "Python 3",
   "language": "python",
   "name": "python3"
  },
  "language_info": {
   "codemirror_mode": {
    "name": "ipython",
    "version": 3
   },
   "file_extension": ".py",
   "mimetype": "text/x-python",
   "name": "python",
   "nbconvert_exporter": "python",
   "pygments_lexer": "ipython3",
   "version": "3.7.0"
  }
 },
 "nbformat": 4,
 "nbformat_minor": 2
}

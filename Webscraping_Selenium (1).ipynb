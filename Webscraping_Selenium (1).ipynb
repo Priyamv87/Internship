{
 "cells": [
  {
   "cell_type": "markdown",
   "id": "73f859f9",
   "metadata": {},
   "source": [
    "Q1: Write a python program to scrape data for “Data Analyst” Job position in “Bangalore” location. You have to scrape the job-title, job-location, company_name, experience_required. You have to scrape first 10 jobs data. This task will be done in following steps:\n",
    "        1. First get the webpage https://www.naukri.com/ \n",
    "        2. Enter “Data Analyst” in “Skill, Designations, Companies” field and enter “Bangalore” in “enter the location” field.\n",
    "        3. Then click the search button.\n",
    "        4. Then scrape the data for the first 10 jobs results you get.\n",
    "        5. Finally create a dataframe of the scraped data. Note"
   ]
  },
  {
   "cell_type": "code",
   "execution_count": 307,
   "id": "123b0778",
   "metadata": {},
   "outputs": [
    {
     "name": "stdout",
     "output_type": "stream",
     "text": [
      "Requirement already satisfied: selenium in c:\\programdata\\anaconda3\\lib\\site-packages (4.5.0)\n",
      "Requirement already satisfied: trio-websocket~=0.9 in c:\\programdata\\anaconda3\\lib\\site-packages (from selenium) (0.9.2)\n",
      "Requirement already satisfied: certifi>=2021.10.8 in c:\\programdata\\anaconda3\\lib\\site-packages (from selenium) (2022.9.14)\n",
      "Requirement already satisfied: trio~=0.17 in c:\\programdata\\anaconda3\\lib\\site-packages (from selenium) (0.22.0)\n",
      "Requirement already satisfied: urllib3[socks]~=1.26 in c:\\programdata\\anaconda3\\lib\\site-packages (from selenium) (1.26.11)\n",
      "Requirement already satisfied: sortedcontainers in c:\\programdata\\anaconda3\\lib\\site-packages (from trio~=0.17->selenium) (2.4.0)\n",
      "Requirement already satisfied: cffi>=1.14 in c:\\programdata\\anaconda3\\lib\\site-packages (from trio~=0.17->selenium) (1.15.1)\n",
      "Requirement already satisfied: idna in c:\\programdata\\anaconda3\\lib\\site-packages (from trio~=0.17->selenium) (3.3)\n",
      "Requirement already satisfied: outcome in c:\\programdata\\anaconda3\\lib\\site-packages (from trio~=0.17->selenium) (1.2.0)\n",
      "Requirement already satisfied: exceptiongroup>=1.0.0rc9 in c:\\programdata\\anaconda3\\lib\\site-packages (from trio~=0.17->selenium) (1.0.0)\n",
      "Requirement already satisfied: async-generator>=1.9 in c:\\programdata\\anaconda3\\lib\\site-packages (from trio~=0.17->selenium) (1.10)\n",
      "Requirement already satisfied: sniffio in c:\\programdata\\anaconda3\\lib\\site-packages (from trio~=0.17->selenium) (1.2.0)\n",
      "Requirement already satisfied: attrs>=19.2.0 in c:\\programdata\\anaconda3\\lib\\site-packages (from trio~=0.17->selenium) (21.4.0)\n",
      "Requirement already satisfied: wsproto>=0.14 in c:\\programdata\\anaconda3\\lib\\site-packages (from trio-websocket~=0.9->selenium) (1.2.0)\n",
      "Requirement already satisfied: PySocks!=1.5.7,<2.0,>=1.5.6 in c:\\programdata\\anaconda3\\lib\\site-packages (from urllib3[socks]~=1.26->selenium) (1.7.1)\n",
      "Requirement already satisfied: pycparser in c:\\programdata\\anaconda3\\lib\\site-packages (from cffi>=1.14->trio~=0.17->selenium) (2.21)\n",
      "Requirement already satisfied: h11<1,>=0.9.0 in c:\\programdata\\anaconda3\\lib\\site-packages (from wsproto>=0.14->trio-websocket~=0.9->selenium) (0.14.0)\n"
     ]
    }
   ],
   "source": [
    " #installing Selenium\n",
    "!pip install selenium              "
   ]
  },
  {
   "cell_type": "code",
   "execution_count": 308,
   "id": "b4250d18",
   "metadata": {},
   "outputs": [],
   "source": [
    "#importing all the required libraries\n",
    "import selenium\n",
    "import pandas as pd\n",
    "from selenium import webdriver                                   #importing webdriver module to open automated chrome browser\n",
    "from selenium.webdriver.common.by import By                      #importing inbuilt class By\n",
    "import warnings\n",
    "import time\n",
    "import numpy as np"
   ]
  },
  {
   "cell_type": "code",
   "execution_count": null,
   "id": "dc4661b9",
   "metadata": {},
   "outputs": [],
   "source": [
    "#to open automated web browser\n",
    "driver=webdriver.Chrome(r'C:\\Users\\Shiva\\Downloads\\chromedriver_win32\\chromedriver.exe')"
   ]
  },
  {
   "cell_type": "code",
   "execution_count": null,
   "id": "4de9b67c",
   "metadata": {},
   "outputs": [],
   "source": [
    "#to maximise the window\n",
    "driver.maximize_window()"
   ]
  },
  {
   "cell_type": "code",
   "execution_count": null,
   "id": "e739b325",
   "metadata": {},
   "outputs": [],
   "source": [
    "#opening naukri.com\n",
    "page= 'https://www.naukri.com/'\n",
    "driver.get(page)"
   ]
  },
  {
   "cell_type": "code",
   "execution_count": null,
   "id": "6130264c",
   "metadata": {},
   "outputs": [],
   "source": [
    "#to find the web element to search job bar\n",
    "job_search=driver.find_element(By.CLASS_NAME,\"suggestor-input \")\n",
    "job_search.send_keys(\"Data Analyst\")"
   ]
  },
  {
   "cell_type": "code",
   "execution_count": null,
   "id": "ed5acddf",
   "metadata": {},
   "outputs": [],
   "source": [
    "#to find the loc bar\n",
    "loca_search=driver.find_element(By.XPATH,'/html/body/div[1]/div[6]/div/div/div[5]/div/div/div/input')\n",
    "loca_search.send_keys(\"Bangalore\")"
   ]
  },
  {
   "cell_type": "code",
   "execution_count": null,
   "id": "c55d7500",
   "metadata": {},
   "outputs": [],
   "source": [
    "#click submit\n",
    "srch_btn=driver.find_element(By.CLASS_NAME,\"qsbSubmit\")\n",
    "srch_btn.click()"
   ]
  },
  {
   "cell_type": "code",
   "execution_count": null,
   "id": "8607dd47",
   "metadata": {},
   "outputs": [],
   "source": [
    "#Extraxting the job_title\n",
    "Job_title=[]\n",
    "title_=driver.find_elements(By.XPATH,'//a[@class=\"title fw500 ellipsis\"]')\n",
    "for i in title_[0:10]:\n",
    "    Job_title.append(i.text)\n",
    "Job_title"
   ]
  },
  {
   "cell_type": "code",
   "execution_count": null,
   "id": "aa15825c",
   "metadata": {},
   "outputs": [],
   "source": [
    "#Extracting company\n",
    "company=[]\n",
    "cmp=driver.find_elements(By.XPATH,'//a[@class=\"subTitle ellipsis fleft\"]')\n",
    "for i in cmp[0:10]:\n",
    "    company.append(i.text)\n",
    "company"
   ]
  },
  {
   "cell_type": "code",
   "execution_count": null,
   "id": "47572ad0",
   "metadata": {},
   "outputs": [],
   "source": [
    "#extracting Exp\n",
    "Experience=[]\n",
    "Exp=driver.find_elements(By.XPATH,'//span[@class=\"ellipsis fleft fs12 lh16 expwdth\"]')\n",
    "for i in Exp[0:10]:\n",
    "    Experience.append(i.text)\n",
    "Experience"
   ]
  },
  {
   "cell_type": "code",
   "execution_count": null,
   "id": "7c7f145b",
   "metadata": {},
   "outputs": [],
   "source": [
    "#Extracting Salary\n",
    "Salary=[]\n",
    "sal=driver.find_elements(By.XPATH,'//span[@class=\"ellipsis fleft fs12 lh16 \"]')\n",
    "for i in sal[0:10]:\n",
    "    Salary.append(i.text)\n",
    "Salary"
   ]
  },
  {
   "cell_type": "code",
   "execution_count": null,
   "id": "aa21362a",
   "metadata": {},
   "outputs": [],
   "source": [
    "Jobs=pd.DataFrame()\n",
    "Jobs['Jpb_Title']=Job_title\n",
    "Jobs['Company']=company\n",
    "Jobs['Experience']=Experience\n",
    "Jobs['Salary']=Salary\n",
    "Jobs"
   ]
  },
  {
   "cell_type": "code",
   "execution_count": null,
   "id": "f40c2639",
   "metadata": {},
   "outputs": [],
   "source": [
    "driver.close()"
   ]
  },
  {
   "cell_type": "markdown",
   "id": "15b97257",
   "metadata": {},
   "source": [
    "Q2: Write a python program to scrape data for “Data Scientist” Job position in “Bangalore” location. You have to scrape the job-title, job-location, company_name. You have to scrape first 10 jobs data. This task will be done in following steps: 1. First get the webpage https://www.naukri.com/ 2. Enter “Data Scientist” in “Skill, Designations, Companies” field and enter “Bangalore” in “enter the location” field. 3. Then click the search button. 4. Then scrape the data for the first 10 jobs results you get. 5. Finally create a dataframe of the scraped data."
   ]
  },
  {
   "cell_type": "code",
   "execution_count": null,
   "id": "4ed58550",
   "metadata": {},
   "outputs": [],
   "source": [
    "#to open automated web browser\n",
    "driver=webdriver.Chrome(r'C:\\Users\\Shiva\\Downloads\\chromedriver_win32\\chromedriver.exe')"
   ]
  },
  {
   "cell_type": "code",
   "execution_count": null,
   "id": "c56a897b",
   "metadata": {},
   "outputs": [],
   "source": [
    "#to maximise the window\n",
    "driver.maximize_window()"
   ]
  },
  {
   "cell_type": "code",
   "execution_count": null,
   "id": "58ee51df",
   "metadata": {},
   "outputs": [],
   "source": [
    "#opening naukri.com\n",
    "page= 'https://www.naukri.com/'\n",
    "driver.get(page)"
   ]
  },
  {
   "cell_type": "code",
   "execution_count": null,
   "id": "011d8458",
   "metadata": {},
   "outputs": [],
   "source": [
    "#to find the web element to search job bar\n",
    "job_search=driver.find_element(By.CLASS_NAME,\"suggestor-input \")\n",
    "job_search.send_keys(\"Data Scientist\")"
   ]
  },
  {
   "cell_type": "code",
   "execution_count": null,
   "id": "a73d1b65",
   "metadata": {},
   "outputs": [],
   "source": [
    "#to find the loc bar\n",
    "loca_search=driver.find_element(By.XPATH,'/html/body/div[1]/div[6]/div/div/div[5]/div/div/div/input')\n",
    "loca_search.send_keys(\"Bangalore\")"
   ]
  },
  {
   "cell_type": "code",
   "execution_count": null,
   "id": "67c549c5",
   "metadata": {},
   "outputs": [],
   "source": [
    "#click submit\n",
    "srch_btn=driver.find_element(By.CLASS_NAME,\"qsbSubmit\")\n",
    "srch_btn.click()"
   ]
  },
  {
   "cell_type": "code",
   "execution_count": null,
   "id": "00b122e5",
   "metadata": {},
   "outputs": [],
   "source": [
    "#Extracting Jobtitle\n",
    "Title=[]\n",
    "job_title=driver.find_elements(By.XPATH,'//a[@class=\"title fw500 ellipsis\"]')\n",
    "for i in job_title[:10]:\n",
    "    Title.append(i.text)\n",
    "Title"
   ]
  },
  {
   "cell_type": "code",
   "execution_count": null,
   "id": "cfa8a8a4",
   "metadata": {},
   "outputs": [],
   "source": [
    "#Extracting Job_loc\n",
    "loc=[]\n",
    "loca=driver.find_elements(By.XPATH,'//span[@class=\"ellipsis fleft fs12 lh16 locWdth\"]')\n",
    "for i in loca[:10]:\n",
    "    loc.append(i.text)\n",
    "loc"
   ]
  },
  {
   "cell_type": "code",
   "execution_count": null,
   "id": "cde9947a",
   "metadata": {},
   "outputs": [],
   "source": [
    "#extracting company \n",
    "company=[]\n",
    "com=driver.find_elements(By.XPATH,'//a[@class=\"subTitle ellipsis fleft\"]')\n",
    "for i in com[:10]:\n",
    "    company.append(i.text)\n",
    "company"
   ]
  },
  {
   "cell_type": "code",
   "execution_count": null,
   "id": "18397942",
   "metadata": {},
   "outputs": [],
   "source": [
    "df=pd.DataFrame()\n",
    "df['Job_Title']=Title\n",
    "df['Job_location']=loc\n",
    "df['Company']=company\n",
    "df"
   ]
  },
  {
   "cell_type": "code",
   "execution_count": null,
   "id": "e6441f87",
   "metadata": {},
   "outputs": [],
   "source": [
    "driver.close()"
   ]
  },
  {
   "cell_type": "markdown",
   "id": "e686e874",
   "metadata": {},
   "source": [
    "Q3: In this question you have to scrape data using the filters available on the webpage as shown below: \n",
    " \n",
    "You have to use the location and salary filter. You have to scrape data for “Data Scientist” designation for first 10 job results. You have to scrape the job-title, job-location, company name, experience required. The location filter to be used is “Delhi/NCR”. The salary filter to be used is “3-6” lakhs \n",
    " \n",
    "The task will be done as shown in the below steps: 1. first get the webpage https://www.naukri.com/ 2. Enter “Data Scientist” in “Skill, Designations, and Companies” field. 3. Then click the search button. 4. Then apply the location filter and salary filter by checking the respective boxes 5. Then scrape the data for the first 10 jobs results you get. 6. Finally create a dataframe of the scraped data."
   ]
  },
  {
   "cell_type": "code",
   "execution_count": null,
   "id": "7ab962ca",
   "metadata": {},
   "outputs": [],
   "source": [
    "#to open automated web browser\n",
    "driver=webdriver.Chrome(r'C:\\Users\\Shiva\\Downloads\\chromedriver_win32\\chromedriver.exe')"
   ]
  },
  {
   "cell_type": "code",
   "execution_count": null,
   "id": "c262b57b",
   "metadata": {},
   "outputs": [],
   "source": [
    "#to maximise the window\n",
    "driver.maximize_window()"
   ]
  },
  {
   "cell_type": "code",
   "execution_count": null,
   "id": "65374c49",
   "metadata": {},
   "outputs": [],
   "source": [
    "#opening naukri.com\n",
    "page= 'https://www.naukri.com/'\n",
    "driver.get(page)"
   ]
  },
  {
   "cell_type": "code",
   "execution_count": null,
   "id": "75a1561b",
   "metadata": {},
   "outputs": [],
   "source": [
    "#to find the web element to search job bar\n",
    "job_search=driver.find_element(By.CLASS_NAME,\"suggestor-input \")\n",
    "job_search.send_keys(\"data Scientist\")"
   ]
  },
  {
   "cell_type": "code",
   "execution_count": null,
   "id": "c60be937",
   "metadata": {},
   "outputs": [],
   "source": [
    "#click search\n",
    "Srch_btn=driver.find_element(By.CLASS_NAME,\"qsbSubmit\")\n",
    "Srch_btn.click()"
   ]
  },
  {
   "cell_type": "code",
   "execution_count": null,
   "id": "15ff3d59",
   "metadata": {},
   "outputs": [],
   "source": [
    "#Select location\n",
    "loc=driver.find_element(By.XPATH,\"/html/body/div[1]/div[4]/div/section[1]/div[2]/div[5]/div[2]/div[2]/label/i\")\n",
    "loc.click()"
   ]
  },
  {
   "cell_type": "code",
   "execution_count": null,
   "id": "6f2e1494",
   "metadata": {},
   "outputs": [],
   "source": [
    "#select salary\n",
    "sal=driver.find_element(By.XPATH,'/html/body/div[1]/div[4]/div/section[1]/div[2]/div[6]/div[2]/div[2]/label/i')\n",
    "sal.click()"
   ]
  },
  {
   "cell_type": "code",
   "execution_count": null,
   "id": "d855696d",
   "metadata": {},
   "outputs": [],
   "source": [
    "#Extracting Jobtitle\n",
    "Title=[]\n",
    "job_title=driver.find_elements(By.XPATH,'//a[@class=\"title fw500 ellipsis\"]')\n",
    "for i in job_title[:10]:\n",
    "    Title.append(i.text)\n",
    "Title"
   ]
  },
  {
   "cell_type": "code",
   "execution_count": null,
   "id": "2b461f7c",
   "metadata": {},
   "outputs": [],
   "source": [
    "#Extracting Job_loc\n",
    "loc=[]\n",
    "loca=driver.find_elements(By.XPATH,'//span[@class=\"ellipsis fleft fs12 lh16 locWdth\"]')\n",
    "for i in loca[:10]:\n",
    "    loc.append(i.text)\n",
    "loc"
   ]
  },
  {
   "cell_type": "code",
   "execution_count": null,
   "id": "a240ef1d",
   "metadata": {},
   "outputs": [],
   "source": [
    "#extracting company \n",
    "company=[]\n",
    "com=driver.find_elements(By.XPATH,'//a[@class=\"subTitle ellipsis fleft\"]')\n",
    "for i in com[:10]:\n",
    "    company.append(i.text)\n",
    "company"
   ]
  },
  {
   "cell_type": "code",
   "execution_count": null,
   "id": "c4a1ef34",
   "metadata": {},
   "outputs": [],
   "source": [
    "#extracting Exp\n",
    "Experience=[]\n",
    "Exp=driver.find_elements(By.XPATH,'//span[@class=\"ellipsis fleft fs12 lh16 expwdth\"]')\n",
    "for i in Exp[0:10]:\n",
    "    Experience.append(i.text)\n",
    "Experience"
   ]
  },
  {
   "cell_type": "code",
   "execution_count": null,
   "id": "40928927",
   "metadata": {},
   "outputs": [],
   "source": [
    "job=pd.DataFrame()\n",
    "job['Job_Title']=Title\n",
    "job['Job_Location']=loc\n",
    "job['Company']=company\n",
    "job['Experience']=Experience\n",
    "job"
   ]
  },
  {
   "cell_type": "code",
   "execution_count": null,
   "id": "170826e5",
   "metadata": {},
   "outputs": [],
   "source": [
    "driver.close()"
   ]
  },
  {
   "cell_type": "markdown",
   "id": "ec3e968f",
   "metadata": {},
   "source": [
    "Q8: Go to webpage https://www.amazon.in/ Enter “Laptop” in the search field and then click the search icon. Then set CPU Type filter to “Intel Core i7” as shown in the below image: \n",
    "After setting the filters scrape first 10 laptops data. You have to scrape 3 attributesfor each laptop: 1. Title 2. Ratings 3. Price"
   ]
  },
  {
   "cell_type": "code",
   "execution_count": null,
   "id": "428c2e7d",
   "metadata": {},
   "outputs": [],
   "source": [
    "#to open automated web browser\n",
    "driver=webdriver.Chrome(r'C:\\Users\\Shiva\\Downloads\\chromedriver_win32\\chromedriver.exe')"
   ]
  },
  {
   "cell_type": "code",
   "execution_count": null,
   "id": "477463f9",
   "metadata": {},
   "outputs": [],
   "source": [
    "#to maximise the window\n",
    "driver.maximize_window()"
   ]
  },
  {
   "cell_type": "code",
   "execution_count": null,
   "id": "326c9c10",
   "metadata": {},
   "outputs": [],
   "source": [
    "page='https://www.amazon.in/'\n",
    "driver.get(page)"
   ]
  },
  {
   "cell_type": "code",
   "execution_count": null,
   "id": "dfc8e4c4",
   "metadata": {},
   "outputs": [],
   "source": [
    "search=driver.find_element(By.XPATH,'/html/body/div[1]/header/div/div[1]/div[2]/div/form/div[2]/div[1]/input')\n",
    "search.send_keys('Laptop')"
   ]
  },
  {
   "cell_type": "code",
   "execution_count": null,
   "id": "609b253d",
   "metadata": {},
   "outputs": [],
   "source": [
    "find=driver.find_element(By.XPATH,'/html/body/div[1]/header/div/div[1]/div[2]/div/form/div[3]/div/span/input')\n",
    "find.click()"
   ]
  },
  {
   "cell_type": "code",
   "execution_count": null,
   "id": "8ef181be",
   "metadata": {},
   "outputs": [],
   "source": [
    "cpu=driver.find_element(By.XPATH,'/html/body/div[1]/div[2]/div[1]/div[2]/div/div[3]/span/div[1]/div/div/div[6]/ul[5]/li[11]/span/a/div/label/i')\n",
    "cpu.click()"
   ]
  },
  {
   "cell_type": "code",
   "execution_count": null,
   "id": "13eb77d2",
   "metadata": {},
   "outputs": [],
   "source": [
    "title=[]          #extracting title\n",
    "Title=driver.find_elements(By.XPATH,'//span[@class=\"a-size-medium a-color-base a-text-normal\"]')\n",
    "for i in Title[:10]:\n",
    "    title.append(i.text)\n",
    "title"
   ]
  },
  {
   "cell_type": "code",
   "execution_count": null,
   "id": "2987e19c",
   "metadata": {},
   "outputs": [],
   "source": [
    "price=[]      #extraxting price\n",
    "Price=driver.find_elements(By.XPATH,'//span[@class=\"a-price-whole\"]')\n",
    "for i in Price[:10]:\n",
    "    price.append(i.text)\n",
    "price"
   ]
  },
  {
   "cell_type": "code",
   "execution_count": null,
   "id": "a04870e4",
   "metadata": {},
   "outputs": [],
   "source": [
    "arro=driver.find_element(By.XPATH,'/html/body/div[1]/div[2]/div[1]/div[1]/div/span[1]/div[1]/div[3]/div/div/div/div/div/div[2]/div/div/div[2]/div/span[1]/span/a/i[2]')\n",
    "arro.click()\n",
    "time.sleep(1)"
   ]
  },
  {
   "cell_type": "code",
   "execution_count": null,
   "id": "24ad84e1",
   "metadata": {},
   "outputs": [],
   "source": [
    "rat=[]         #extract rating\n",
    "Rat=driver.find_elements(By.XPATH,'//span[@class=\"a-icon-alt\"]')\n",
    "for i in Rat[:10]:\n",
    "    rat.append(i.text)\n",
    "rat"
   ]
  },
  {
   "cell_type": "code",
   "execution_count": null,
   "id": "aca91805",
   "metadata": {},
   "outputs": [],
   "source": [
    "driver.close()"
   ]
  },
  {
   "cell_type": "markdown",
   "id": "19799652",
   "metadata": {},
   "source": [
    "Q7: Go to the link - https://www.myntra.com/shoes Set second Price filter and Color filter to “Black”, as shown in the below image. \n",
    "And then scrape First 100 shoes data you get. The data should include “Brand” of the shoes , Short Shoe description, price of the shoe as shown in the below image. "
   ]
  },
  {
   "cell_type": "code",
   "execution_count": null,
   "id": "d7685468",
   "metadata": {},
   "outputs": [],
   "source": [
    "#to open automated web browser\n",
    "driver=webdriver.Chrome(r'C:\\Users\\Shiva\\Downloads\\chromedriver_win32\\chromedriver.exe')"
   ]
  },
  {
   "cell_type": "code",
   "execution_count": null,
   "id": "d1278b8a",
   "metadata": {},
   "outputs": [],
   "source": [
    "#to maximise the window\n",
    "driver.maximize_window()"
   ]
  },
  {
   "cell_type": "code",
   "execution_count": null,
   "id": "7e11d386",
   "metadata": {},
   "outputs": [],
   "source": [
    "page='https://www.myntra.com/shoes'\n",
    "driver.get(page)"
   ]
  },
  {
   "cell_type": "code",
   "execution_count": null,
   "id": "3ed19bdf",
   "metadata": {},
   "outputs": [],
   "source": [
    "price=driver.find_element(By.XPATH,'/html/body/div[2]/div/main/div[3]/div[1]/section/div/div[5]/ul/li[2]/label/div')\n",
    "price.click()"
   ]
  },
  {
   "cell_type": "code",
   "execution_count": null,
   "id": "87133c9b",
   "metadata": {},
   "outputs": [],
   "source": [
    "color=driver.find_element(By.XPATH,'/html/body/div[2]/div/main/div[3]/div[1]/section/div/div[6]/ul/li[1]/label/div')\n",
    "color.click()"
   ]
  },
  {
   "cell_type": "code",
   "execution_count": null,
   "id": "7a392f3b",
   "metadata": {},
   "outputs": [],
   "source": [
    "brand=[]\n",
    "for i in range(1,100):\n",
    "    Brand=driver.find_elements(By.XPATH,'//h3[@class=\"product-brand\"]')\n",
    "    for i in Brand:\n",
    "        brand.append(i.text)\n",
    "       # nxt_=driver.find_element(By.XPATH,'/html/body/div[2]/div/main/div[3]/div[2]/div/div[2]/section/div[2]/ul/li[13]/a')\n",
    "        #nxt_.click()\n",
    "brand"
   ]
  },
  {
   "cell_type": "code",
   "execution_count": null,
   "id": "8712763f",
   "metadata": {},
   "outputs": [],
   "source": [
    "desc=[]\n",
    "Desc=driver.find_elements(By.XPATH,'//h4[@class=\"product-product\"]')\n",
    "for i in Desc[:100]:\n",
    "    desc.append(i.text)\n",
    "desc"
   ]
  },
  {
   "cell_type": "code",
   "execution_count": null,
   "id": "298a38a6",
   "metadata": {},
   "outputs": [],
   "source": [
    "pri=[]\n",
    "Pri=driver.find_elements(By.XPATH,'//div[@class=\"product-price\"]')\n",
    "for i in Pri[:100]:\n",
    "    pri.append(i.text)\n",
    "pri"
   ]
  },
  {
   "cell_type": "code",
   "execution_count": null,
   "id": "fca94f4e",
   "metadata": {},
   "outputs": [],
   "source": [
    "driver.close()"
   ]
  },
  {
   "cell_type": "markdown",
   "id": "36894741",
   "metadata": {},
   "source": [
    "Q9: Write a python program to scrape data for Top 1000 Quotes of All Time.     \n",
    "    The above task will be done in following steps:               1.First get the webpage https://www.azquotes.com/               2. Click on Top Quotes               3. Than scrap a) Quote b) Author c) Type Of Quote \n",
    " \n",
    " "
   ]
  },
  {
   "cell_type": "code",
   "execution_count": null,
   "id": "b2f19b2f",
   "metadata": {},
   "outputs": [],
   "source": [
    "#to open automated web browser\n",
    "driver=webdriver.Chrome(r'C:\\Users\\Shiva\\Downloads\\chromedriver_win32\\chromedriver.exe')"
   ]
  },
  {
   "cell_type": "code",
   "execution_count": null,
   "id": "403a806d",
   "metadata": {},
   "outputs": [],
   "source": [
    "#to maximise the window\n",
    "driver.maximize_window()"
   ]
  },
  {
   "cell_type": "code",
   "execution_count": null,
   "id": "db57eba1",
   "metadata": {},
   "outputs": [],
   "source": [
    "page='https://www.azquotes.com/'\n",
    "driver.get(page)"
   ]
  },
  {
   "cell_type": "code",
   "execution_count": null,
   "id": "fdd2a54e",
   "metadata": {},
   "outputs": [],
   "source": [
    "top=driver.find_element(By.XPATH,'/html/body/div[1]/div[1]/div[1]/div/div[3]/ul/li[5]/a')\n",
    "top.click()"
   ]
  },
  {
   "cell_type": "code",
   "execution_count": null,
   "id": "ddf080fa",
   "metadata": {},
   "outputs": [],
   "source": [
    "Quote=[]\n",
    "for page in range(0,10):\n",
    "    quo=driver.find_elements(By.XPATH,'//a[@class=\"title\"]')\n",
    "    for i in quo:\n",
    "        Quote.append(i.text)\n",
    "    #nxt_=driver.find_element(By.XPATH,'//li[@class=\"next\"]//a')\n",
    "    #nxt_.click()\n",
    "    #time.sleep(3)\n",
    "Quote\n",
    "    "
   ]
  },
  {
   "cell_type": "code",
   "execution_count": null,
   "id": "f24fa8b7",
   "metadata": {},
   "outputs": [],
   "source": [
    "author=[]\n",
    "for page in range(0,10):\n",
    "    auth=driver.find_elements(By.XPATH,'//div[@class=\"author\"]')\n",
    "    for i in auth:\n",
    "        author.append(i.text)\n",
    "    #next_btn=driver.find_elements(By.XPATH,'/html/body/div[1]/div[2]/div/div/div/div[1]/div/div[4]/li[12]/a')\n",
    "    #next_btn.click()\n",
    "    #time.sleep(3)\n",
    "author"
   ]
  },
  {
   "cell_type": "code",
   "execution_count": null,
   "id": "1b96d7f5",
   "metadata": {},
   "outputs": [],
   "source": [
    "desc=[]\n",
    "for page in range(0,10):\n",
    "    Desc=driver.find_elements(By.XPATH,'//div[@class=\"author\"]')\n",
    "    for i in Desc:\n",
    "        desc.append(i.text)\n",
    "    #next_btn=driver.find_elements(By.XPATH,'/html/body/div[1]/div[2]/div/div/div/div[1]/div/div[4]/li[12]/a')\n",
    "    #next_btn.click()\n",
    "    #time.sleep(3)\n",
    "desc"
   ]
  },
  {
   "cell_type": "code",
   "execution_count": null,
   "id": "5860ad39",
   "metadata": {},
   "outputs": [],
   "source": [
    "driver.close()"
   ]
  },
  {
   "cell_type": "markdown",
   "id": "af379258",
   "metadata": {},
   "source": [
    "Q10: Write s python program to display list of respected former Prime Ministers of India(i.e. Name, Born-Dead, Term of office, Remarks) from https://www.jagranjosh.com/. \n",
    " \n",
    "This task will be done in following steps: 1. First get the webpage https://www.jagranjosh.com/ 2. Then You have to click on the GK option 3. Then click on the List of all Prime Ministers of India 4. Then scrap the mentioned data and make the DataFrame"
   ]
  },
  {
   "cell_type": "code",
   "execution_count": null,
   "id": "9e8c4682",
   "metadata": {},
   "outputs": [],
   "source": [
    "#to open automated web browser\n",
    "driver=webdriver.Chrome(r'C:\\Users\\Shiva\\Downloads\\chromedriver_win32\\chromedriver.exe')"
   ]
  },
  {
   "cell_type": "code",
   "execution_count": null,
   "id": "8f9a327a",
   "metadata": {},
   "outputs": [],
   "source": [
    "#to maximise the window\n",
    "driver.maximize_window()"
   ]
  },
  {
   "cell_type": "code",
   "execution_count": null,
   "id": "c3d8f4e6",
   "metadata": {},
   "outputs": [],
   "source": [
    "page='https://www.jagranjosh.com/'\n",
    "driver.get(page)"
   ]
  },
  {
   "cell_type": "code",
   "execution_count": null,
   "id": "cb002fce",
   "metadata": {},
   "outputs": [],
   "source": [
    "GK=driver.find_element(By.XPATH,'/html/body/div/div[1]/div/div[1]/div/div[6]/div/div[1]/header/div[3]/ul/li[9]/a')\n",
    "GK.click()\n",
    "time.sleep(1)\n",
    "gk=driver.find_element(By.XPATH,'/html/body/div[1]/div/div/div[2]/div/div[5]/div/div/ul/li[6]/a')\n",
    "gk.click()\n",
    "time.sleep(1)\n",
    "list_=driver.find_element(By.XPATH,'/html/body/div[1]/div/div/div[2]/div/div[10]/div/div/ul/li[2]/a')\n",
    "list_.click()"
   ]
  },
  {
   "cell_type": "code",
   "execution_count": null,
   "id": "d666bf96",
   "metadata": {},
   "outputs": [],
   "source": [
    "PM=driver.find_element(By.XPATH,'//div[@class=\"table-box\"]')\n",
    "PM.text.replace('\\n','')"
   ]
  },
  {
   "cell_type": "code",
   "execution_count": null,
   "id": "93c32fd6",
   "metadata": {},
   "outputs": [],
   "source": [
    "driver.close()"
   ]
  },
  {
   "cell_type": "markdown",
   "id": "3572fabc",
   "metadata": {},
   "source": [
    "Q11: Write s python program to display list of 50 Most expensive cars in the world (i.e. Company name, Model name and Price) from https://www.motor1.com/ \n",
    " \n",
    "This task will be done in following steps: 1. First get the webpage https://www.motor1.com/ 2. Then You have to click on the List option from Dropdown menu on left side. 3. Then click on 50 most expensive cars in the world.. 4. Then scrap the mentioned data and make the "
   ]
  },
  {
   "cell_type": "code",
   "execution_count": null,
   "id": "746db122",
   "metadata": {},
   "outputs": [],
   "source": [
    "#to open automated web browser\n",
    "driver=webdriver.Chrome(r'C:\\Users\\Shiva\\Downloads\\chromedriver_win32\\chromedriver.exe')"
   ]
  },
  {
   "cell_type": "code",
   "execution_count": null,
   "id": "1d1dc3ed",
   "metadata": {},
   "outputs": [],
   "source": [
    "#to maximise the window\n",
    "driver.maximize_window()"
   ]
  },
  {
   "cell_type": "code",
   "execution_count": null,
   "id": "fea9b80b",
   "metadata": {},
   "outputs": [],
   "source": [
    "page='https://www.motor1.com/'\n",
    "driver.get(page)"
   ]
  },
  {
   "cell_type": "code",
   "execution_count": null,
   "id": "f4104601",
   "metadata": {},
   "outputs": [],
   "source": [
    "cli=driver.find_element(By.XPATH,'//div[@class=\"m1-hamburger-button\"]')\n",
    "cli.click()"
   ]
  },
  {
   "cell_type": "code",
   "execution_count": null,
   "id": "26184b65",
   "metadata": {},
   "outputs": [],
   "source": [
    "lis=driver.find_element(By.XPATH,'/html/body/div[3]/div[1]/div[3]/ul/li[4]/a')\n",
    "lis.click()"
   ]
  },
  {
   "cell_type": "code",
   "execution_count": null,
   "id": "72af0df6",
   "metadata": {},
   "outputs": [],
   "source": [
    "top=driver.find_element(By.XPATH,'/html/body/div[2]/div[9]/div[1]/div[1]/div/div/div[1]/div/div[1]/h3/a')\n",
    "top.click()"
   ]
  },
  {
   "cell_type": "code",
   "execution_count": null,
   "id": "bcc5b865",
   "metadata": {},
   "outputs": [],
   "source": [
    "Car=[]\n",
    "car=driver.find_elements(By.XPATH,'//h3[@class=\"subheader\"]')\n",
    "for i in car:\n",
    "    Car.append(i.text)\n",
    "Car"
   ]
  },
  {
   "cell_type": "code",
   "execution_count": null,
   "id": "e4cb3915",
   "metadata": {},
   "outputs": [],
   "source": [
    "PRICE=[]\n",
    "price=driver.find_elements(By.XPATH,'//div[@class=\"postBody description e-content\"]//strong')\n",
    "for i in price:\n",
    "    PRICE.append(i.text)\n",
    "PRICE"
   ]
  },
  {
   "cell_type": "code",
   "execution_count": null,
   "id": "755c6c9b",
   "metadata": {},
   "outputs": [],
   "source": [
    "df=pd.DataFrame()\n",
    "df['car name']=Car\n",
    "df['price']=PRICE\n",
    "df"
   ]
  },
  {
   "cell_type": "code",
   "execution_count": null,
   "id": "4ac0a391",
   "metadata": {},
   "outputs": [],
   "source": [
    "driver.close()"
   ]
  },
  {
   "cell_type": "markdown",
   "id": "8cf9a711",
   "metadata": {},
   "source": [
    "Q5: Scrape 100 reviews data from flipkart.com for iphone11 phone. You have to go the link: https://www.flipkart.com/apple-iphone-11-black-64-gb/p/itm4e5041ba101fd?pid=MOBFWQ6BXGJCEYNY&lid=LSTMOBFWQ6BXGJCEYNYZXSHRJ&marketplace=FLIPKART&store=tyy%2F4io&srno=b_1_18&otracker=CLP_Filters&fm=organic&iid=db7a639e-7257-44f6-b93f-b4852352ca51.MOBFWQ6BXGJCEYNY.SEARCH&ppt=clp&ppn=mobile-phones-store&ssid=wd7cpw4o7k0000001667668540910. When you will open the above link you will reach to the below shown webpage . "
   ]
  },
  {
   "cell_type": "code",
   "execution_count": null,
   "id": "f5d43b81",
   "metadata": {},
   "outputs": [],
   "source": [
    "#to open automated web browser\n",
    "driver=webdriver.Chrome(r'C:\\Users\\Shiva\\Downloads\\chromedriver_win32\\chromedriver.exe')"
   ]
  },
  {
   "cell_type": "code",
   "execution_count": null,
   "id": "6303af06",
   "metadata": {},
   "outputs": [],
   "source": [
    "#to maximise the window\n",
    "driver.maximize_window()"
   ]
  },
  {
   "cell_type": "code",
   "execution_count": null,
   "id": "d4975dbb",
   "metadata": {},
   "outputs": [],
   "source": [
    "page='https://www.flipkart.com/apple-iphone-11-black-64-gb/p/itm4e5041ba101fd?pid=MOBFWQ6BXGJCEYNY&lid=LSTMOBFWQ6BXGJCEYNYZXSHRJ&marketplace=FLIPKART&store=tyy%2F4io&srno=b_1_18&otracker=CLP_Filters&fm=organic&iid=db7a639e-7257-44f6-b93f-b4852352ca51.MOBFWQ6BXGJCEYNY.SEARCH&ppt=clp&ppn=mobile-phones-store&ssid=wd7cpw4o7k0000001667668540910'\n",
    "driver.get(page)"
   ]
  },
  {
   "cell_type": "code",
   "execution_count": null,
   "id": "66e4e8ee",
   "metadata": {},
   "outputs": [],
   "source": [
    "# open review window\n",
    "rev=driver.find_element(By.XPATH,'/html/body/div[1]/div/div[3]/div[1]/div[2]/div[9]/div[7]/div/a/div')\n",
    "rev.click()"
   ]
  },
  {
   "cell_type": "code",
   "execution_count": null,
   "id": "5c1ffbcc",
   "metadata": {},
   "outputs": [],
   "source": [
    "rat=[]\n",
    "for i in range(0,100):\n",
    "    Rat=driver.find_elements(By.XPATH,'//div[@class=\"_3LWZlK _1BLPMq\"]')\n",
    "for i in Rat:\n",
    "    rat.append(i.text)\n",
    "    #nxt=driver.find_elements(By.XPATH,'//a[@class=\"_1LKTO3\"]//span')\n",
    "    #nxt.click()\n",
    "rat"
   ]
  },
  {
   "cell_type": "code",
   "execution_count": null,
   "id": "3b192b16",
   "metadata": {},
   "outputs": [],
   "source": [
    "sum_=[]\n",
    "summ=driver.find_elements(By.XPATH,'//p[@class=\"_2-N8zT\"]')\n",
    "for i in summ:\n",
    "    sum_.append(i.text)\n",
    "sum_"
   ]
  },
  {
   "cell_type": "code",
   "execution_count": null,
   "id": "42d77003",
   "metadata": {},
   "outputs": [],
   "source": [
    "desc=[]\n",
    "ful=driver.find_elements(By.XPATH,'//div[@class=\"t-ZTKy\"]')\n",
    "for i in ful:\n",
    "    desc.append(i.text)\n",
    "desc"
   ]
  },
  {
   "cell_type": "code",
   "execution_count": null,
   "id": "278c3e8f",
   "metadata": {},
   "outputs": [],
   "source": [
    "driver.close()"
   ]
  },
  {
   "cell_type": "markdown",
   "id": "d5251253",
   "metadata": {},
   "source": [
    "Q6: Scrape data for first 100 sneakers you find when you visit flipkart.com and search for “sneakers” in the search field. You have to scrape 4 attributes of each sneaker: 1. Brand 2. Product Description 3. Price As shown in the below image, you have to scrape the tick marked attributes. "
   ]
  },
  {
   "cell_type": "code",
   "execution_count": null,
   "id": "b58ec68c",
   "metadata": {},
   "outputs": [],
   "source": [
    "#to open automated web browser\n",
    "driver=webdriver.Chrome(r'C:\\Users\\Shiva\\Downloads\\chromedriver_win32\\chromedriver.exe')"
   ]
  },
  {
   "cell_type": "code",
   "execution_count": null,
   "id": "72687ac4",
   "metadata": {},
   "outputs": [],
   "source": [
    "#to maximise the window\n",
    "driver.maximize_window()"
   ]
  },
  {
   "cell_type": "code",
   "execution_count": null,
   "id": "3005222d",
   "metadata": {},
   "outputs": [],
   "source": [
    "page='https://www.flipkart.com/'\n",
    "driver.get(page)"
   ]
  },
  {
   "cell_type": "code",
   "execution_count": null,
   "id": "5d03e305",
   "metadata": {},
   "outputs": [],
   "source": [
    "clos=driver.find_element(By.XPATH,'/html/body/div[2]/div/div/button')\n",
    "clos.click()"
   ]
  },
  {
   "cell_type": "code",
   "execution_count": null,
   "id": "f0040189",
   "metadata": {},
   "outputs": [],
   "source": [
    "src=driver.find_element(By.XPATH,'/html/body/div[1]/div/div[1]/div[1]/div[2]/div[2]/form/div/div/input')\n",
    "src.send_keys('sneakers')"
   ]
  },
  {
   "cell_type": "code",
   "execution_count": null,
   "id": "90718173",
   "metadata": {},
   "outputs": [],
   "source": [
    "fnd=driver.find_element(By.XPATH,'/html/body/div[1]/div/div[1]/div[1]/div[2]/div[2]/form/div/button')\n",
    "fnd.click()"
   ]
  },
  {
   "cell_type": "code",
   "execution_count": null,
   "id": "cbe650cf",
   "metadata": {},
   "outputs": [],
   "source": [
    "brnd=[]\n",
    "Brn=driver.find_elements(By.XPATH,'//div[@class=\"_2WkVRV\"]')\n",
    "for i in Brn:\n",
    "    brnd.append(i.text)\n",
    "brnd"
   ]
  },
  {
   "cell_type": "code",
   "execution_count": null,
   "id": "23d80e66",
   "metadata": {},
   "outputs": [],
   "source": [
    "desc=[]\n",
    "Des=driver.find_elements(By.XPATH,'//a[@class=\"IRpwTa\"]')\n",
    "for i in Des:\n",
    "    desc.append(i.text)\n",
    "desc"
   ]
  },
  {
   "cell_type": "code",
   "execution_count": null,
   "id": "32947c4b",
   "metadata": {},
   "outputs": [],
   "source": [
    "price=[]\n",
    "Pri=driver.find_elements(By.XPATH,'//div[@class=\"_30jeq3\"]')\n",
    "for i in Pri:\n",
    "    price.append(i.text)\n",
    "price"
   ]
  },
  {
   "cell_type": "code",
   "execution_count": null,
   "id": "023d0641",
   "metadata": {},
   "outputs": [],
   "source": [
    "dis=[]\n",
    "Dis=driver.find_elements(By.XPATH,'//div[@class=\"_3Ay6Sb\"]//span')\n",
    "for i in Dis:\n",
    "    dis.append(i.text)\n",
    "dis"
   ]
  },
  {
   "cell_type": "code",
   "execution_count": null,
   "id": "e8b45c8f",
   "metadata": {},
   "outputs": [],
   "source": [
    "driver.close()"
   ]
  },
  {
   "cell_type": "markdown",
   "id": "1a87fbfb",
   "metadata": {},
   "source": [
    "Q4: Scrape data of first 100 sunglasses listings on flipkart.com. You have to scrape four attributes: 1. Brand 2. Product Description 3. Price The attributes which you have to scrape is ticked marked in the below image. "
   ]
  },
  {
   "cell_type": "code",
   "execution_count": null,
   "id": "59d3e09e",
   "metadata": {},
   "outputs": [],
   "source": [
    "#to open automated web browser\n",
    "driver=webdriver.Chrome(r'C:\\Users\\Shiva\\Downloads\\chromedriver_win32\\chromedriver.exe')"
   ]
  },
  {
   "cell_type": "code",
   "execution_count": null,
   "id": "13481b94",
   "metadata": {},
   "outputs": [],
   "source": [
    "#to maximise the window\n",
    "driver.maximize_window()"
   ]
  },
  {
   "cell_type": "code",
   "execution_count": null,
   "id": "915d863d",
   "metadata": {},
   "outputs": [],
   "source": [
    "page='https://www.flipkart.com/'\n",
    "driver.get(page)"
   ]
  },
  {
   "cell_type": "code",
   "execution_count": null,
   "id": "7a669fa0",
   "metadata": {},
   "outputs": [],
   "source": [
    "clos=driver.find_element(By.XPATH,'/html/body/div[2]/div/div/button')\n",
    "clos.click()"
   ]
  },
  {
   "cell_type": "code",
   "execution_count": null,
   "id": "025b9d62",
   "metadata": {},
   "outputs": [],
   "source": [
    "src=driver.find_element(By.XPATH,'/html/body/div[1]/div/div[1]/div[1]/div[2]/div[2]/form/div/div/input')\n",
    "src.send_keys('sunglasses')"
   ]
  },
  {
   "cell_type": "code",
   "execution_count": null,
   "id": "8c6e6efb",
   "metadata": {},
   "outputs": [],
   "source": [
    "fnd=driver.find_element(By.XPATH,'/html/body/div[1]/div/div[1]/div[1]/div[2]/div[2]/form/div/button')\n",
    "fnd.click()"
   ]
  },
  {
   "cell_type": "code",
   "execution_count": null,
   "id": "eff0ddec",
   "metadata": {},
   "outputs": [],
   "source": [
    "brnd=[]\n",
    "Brn=driver.find_elements(By.XPATH,'//div[@class=\"_2WkVRV\"]')\n",
    "for i in Brn:\n",
    "    brnd.append(i.text)\n",
    "brnd"
   ]
  },
  {
   "cell_type": "code",
   "execution_count": null,
   "id": "80a449f5",
   "metadata": {},
   "outputs": [],
   "source": [
    "desc=[]\n",
    "Des=driver.find_elements(By.XPATH,'//a[@class=\"IRpwTa\"]')\n",
    "for i in Des:\n",
    "    desc.append(i.text)\n",
    "desc"
   ]
  },
  {
   "cell_type": "code",
   "execution_count": null,
   "id": "5476c393",
   "metadata": {},
   "outputs": [],
   "source": [
    "price=[]\n",
    "Pri=driver.find_elements(By.XPATH,'//div[@class=\"_30jeq3\"]')\n",
    "for i in Pri:\n",
    "    price.append(i.text)\n",
    "price"
   ]
  },
  {
   "cell_type": "code",
   "execution_count": null,
   "id": "bd5903d5",
   "metadata": {},
   "outputs": [],
   "source": [
    "dis=[]\n",
    "Dis=driver.find_elements(By.XPATH,'//div[@class=\"_3Ay6Sb\"]//span')\n",
    "for i in Dis:\n",
    "    dis.append(i.text)\n",
    "dis"
   ]
  },
  {
   "cell_type": "code",
   "execution_count": null,
   "id": "155417a2",
   "metadata": {},
   "outputs": [],
   "source": [
    "driver.close()"
   ]
  },
  {
   "cell_type": "code",
   "execution_count": null,
   "id": "5460ff4b",
   "metadata": {},
   "outputs": [],
   "source": []
  }
 ],
 "metadata": {
  "kernelspec": {
   "display_name": "Python 3 (ipykernel)",
   "language": "python",
   "name": "python3"
  },
  "language_info": {
   "codemirror_mode": {
    "name": "ipython",
    "version": 3
   },
   "file_extension": ".py",
   "mimetype": "text/x-python",
   "name": "python",
   "nbconvert_exporter": "python",
   "pygments_lexer": "ipython3",
   "version": "3.9.13"
  }
 },
 "nbformat": 4,
 "nbformat_minor": 5
}
